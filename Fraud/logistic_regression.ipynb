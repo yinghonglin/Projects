{
 "cells": [
  {
   "cell_type": "markdown",
   "metadata": {
    "nbpresent": {
     "id": "a7289771-729f-48bb-9be7-bd99538fb72a"
    }
   },
   "source": [
    "# Project 3 Fraud Detection Algorithm"
   ]
  },
  {
   "cell_type": "markdown",
   "metadata": {
    "nbpresent": {
     "id": "44d4eb36-ee0e-4070-b455-472afb0f3f4a"
    }
   },
   "source": [
    "## Load data and data split"
   ]
  },
  {
   "cell_type": "code",
   "execution_count": 1,
   "metadata": {
    "nbpresent": {
     "id": "3be92b91-7733-4e0b-b0e7-5f48915edeb6"
    },
    "scrolled": true
   },
   "outputs": [],
   "source": [
    "import numpy as np\n",
    "import pandas as pd\n",
    "import matplotlib.pyplot as plt\n",
    "from sklearn.model_selection import train_test_split\n",
    "import random\n",
    "import warnings\n",
    "warnings.filterwarnings(\"ignore\")\n",
    "\n",
    "data = pd.read_csv(\"vars_final_zscale-2.csv\", index_col = 0)"
   ]
  },
  {
   "cell_type": "code",
   "execution_count": 37,
   "metadata": {},
   "outputs": [
    {
     "data": {
      "text/plain": [
       "(980724, 18)"
      ]
     },
     "execution_count": 37,
     "metadata": {},
     "output_type": "execute_result"
    }
   ],
   "source": [
    "data.shape"
   ]
  },
  {
   "cell_type": "code",
   "execution_count": 2,
   "metadata": {
    "nbpresent": {
     "id": "affacd4e-c4f5-4205-8c3b-ddf001223236"
    },
    "scrolled": true
   },
   "outputs": [
    {
     "data": {
      "text/html": [
       "<div>\n",
       "<style scoped>\n",
       "    .dataframe tbody tr th:only-of-type {\n",
       "        vertical-align: middle;\n",
       "    }\n",
       "\n",
       "    .dataframe tbody tr th {\n",
       "        vertical-align: top;\n",
       "    }\n",
       "\n",
       "    .dataframe thead th {\n",
       "        text-align: right;\n",
       "    }\n",
       "</style>\n",
       "<table border=\"1\" class=\"dataframe\">\n",
       "  <thead>\n",
       "    <tr style=\"text-align: right;\">\n",
       "      <th></th>\n",
       "      <th>fraud_label</th>\n",
       "      <th>Days_fulladdress</th>\n",
       "      <th>fulladdress_30_count</th>\n",
       "      <th>fulladdress_7_count</th>\n",
       "      <th>ssn_30_count</th>\n",
       "      <th>Days_firstname_ssn</th>\n",
       "      <th>Days_fulladdress_homephone</th>\n",
       "      <th>fulladdresshomephone_30_count</th>\n",
       "      <th>ssnnamedob_30_count</th>\n",
       "      <th>ssn_14_count</th>\n",
       "      <th>fulladdresshomephone_14_count</th>\n",
       "      <th>namedob_14_count</th>\n",
       "      <th>firstnamessn_14_count</th>\n",
       "      <th>ssnnamedob_14_count</th>\n",
       "      <th>lastnamessn_14_count</th>\n",
       "      <th>fulladdresshomephone_7_count</th>\n",
       "      <th>homephone_14_count</th>\n",
       "      <th>homephone_1_count</th>\n",
       "    </tr>\n",
       "    <tr>\n",
       "      <th>record</th>\n",
       "      <th></th>\n",
       "      <th></th>\n",
       "      <th></th>\n",
       "      <th></th>\n",
       "      <th></th>\n",
       "      <th></th>\n",
       "      <th></th>\n",
       "      <th></th>\n",
       "      <th></th>\n",
       "      <th></th>\n",
       "      <th></th>\n",
       "      <th></th>\n",
       "      <th></th>\n",
       "      <th></th>\n",
       "      <th></th>\n",
       "      <th></th>\n",
       "      <th></th>\n",
       "      <th></th>\n",
       "    </tr>\n",
       "  </thead>\n",
       "  <tbody>\n",
       "    <tr>\n",
       "      <th>19277</th>\n",
       "      <td>1</td>\n",
       "      <td>-3.230865</td>\n",
       "      <td>4.607631</td>\n",
       "      <td>5.073931</td>\n",
       "      <td>-0.099762</td>\n",
       "      <td>0.39406</td>\n",
       "      <td>-3.464852</td>\n",
       "      <td>5.758508</td>\n",
       "      <td>-0.097878</td>\n",
       "      <td>-0.072852</td>\n",
       "      <td>6.095677</td>\n",
       "      <td>-0.073782</td>\n",
       "      <td>-0.071503</td>\n",
       "      <td>-0.071056</td>\n",
       "      <td>-0.071466</td>\n",
       "      <td>6.416826</td>\n",
       "      <td>1.265044</td>\n",
       "      <td>-0.321508</td>\n",
       "    </tr>\n",
       "    <tr>\n",
       "      <th>19278</th>\n",
       "      <td>0</td>\n",
       "      <td>0.407271</td>\n",
       "      <td>-0.102765</td>\n",
       "      <td>-0.067384</td>\n",
       "      <td>-0.099762</td>\n",
       "      <td>0.39406</td>\n",
       "      <td>0.379935</td>\n",
       "      <td>-0.095718</td>\n",
       "      <td>-0.097878</td>\n",
       "      <td>-0.072852</td>\n",
       "      <td>-0.070587</td>\n",
       "      <td>-0.073782</td>\n",
       "      <td>-0.071503</td>\n",
       "      <td>-0.071056</td>\n",
       "      <td>-0.071466</td>\n",
       "      <td>-0.057622</td>\n",
       "      <td>2.981941</td>\n",
       "      <td>1.269795</td>\n",
       "    </tr>\n",
       "    <tr>\n",
       "      <th>19279</th>\n",
       "      <td>0</td>\n",
       "      <td>0.407271</td>\n",
       "      <td>-0.102765</td>\n",
       "      <td>-0.067384</td>\n",
       "      <td>-0.099762</td>\n",
       "      <td>0.39406</td>\n",
       "      <td>0.379935</td>\n",
       "      <td>-0.095718</td>\n",
       "      <td>-0.097878</td>\n",
       "      <td>-0.072852</td>\n",
       "      <td>-0.070587</td>\n",
       "      <td>-0.073782</td>\n",
       "      <td>-0.071503</td>\n",
       "      <td>-0.071056</td>\n",
       "      <td>-0.071466</td>\n",
       "      <td>-0.057622</td>\n",
       "      <td>-1.024153</td>\n",
       "      <td>-0.321508</td>\n",
       "    </tr>\n",
       "    <tr>\n",
       "      <th>19280</th>\n",
       "      <td>0</td>\n",
       "      <td>0.407271</td>\n",
       "      <td>-0.102765</td>\n",
       "      <td>-0.067384</td>\n",
       "      <td>-0.099762</td>\n",
       "      <td>0.39406</td>\n",
       "      <td>0.379935</td>\n",
       "      <td>-0.095718</td>\n",
       "      <td>-0.097878</td>\n",
       "      <td>-0.072852</td>\n",
       "      <td>-0.070587</td>\n",
       "      <td>-0.073782</td>\n",
       "      <td>-0.071503</td>\n",
       "      <td>-0.071056</td>\n",
       "      <td>-0.071466</td>\n",
       "      <td>-0.057622</td>\n",
       "      <td>-0.451854</td>\n",
       "      <td>-0.321508</td>\n",
       "    </tr>\n",
       "    <tr>\n",
       "      <th>19281</th>\n",
       "      <td>0</td>\n",
       "      <td>0.407271</td>\n",
       "      <td>-0.102765</td>\n",
       "      <td>-0.067384</td>\n",
       "      <td>-0.099762</td>\n",
       "      <td>0.39406</td>\n",
       "      <td>0.379935</td>\n",
       "      <td>-0.095718</td>\n",
       "      <td>-0.097878</td>\n",
       "      <td>-0.072852</td>\n",
       "      <td>-0.070587</td>\n",
       "      <td>-0.073782</td>\n",
       "      <td>-0.071503</td>\n",
       "      <td>-0.071056</td>\n",
       "      <td>-0.071466</td>\n",
       "      <td>-0.057622</td>\n",
       "      <td>-1.024153</td>\n",
       "      <td>-0.321508</td>\n",
       "    </tr>\n",
       "  </tbody>\n",
       "</table>\n",
       "</div>"
      ],
      "text/plain": [
       "        fraud_label  Days_fulladdress  fulladdress_30_count  \\\n",
       "record                                                        \n",
       "19277             1         -3.230865              4.607631   \n",
       "19278             0          0.407271             -0.102765   \n",
       "19279             0          0.407271             -0.102765   \n",
       "19280             0          0.407271             -0.102765   \n",
       "19281             0          0.407271             -0.102765   \n",
       "\n",
       "        fulladdress_7_count  ssn_30_count  Days_firstname_ssn  \\\n",
       "record                                                          \n",
       "19277              5.073931     -0.099762             0.39406   \n",
       "19278             -0.067384     -0.099762             0.39406   \n",
       "19279             -0.067384     -0.099762             0.39406   \n",
       "19280             -0.067384     -0.099762             0.39406   \n",
       "19281             -0.067384     -0.099762             0.39406   \n",
       "\n",
       "        Days_fulladdress_homephone  fulladdresshomephone_30_count  \\\n",
       "record                                                              \n",
       "19277                    -3.464852                       5.758508   \n",
       "19278                     0.379935                      -0.095718   \n",
       "19279                     0.379935                      -0.095718   \n",
       "19280                     0.379935                      -0.095718   \n",
       "19281                     0.379935                      -0.095718   \n",
       "\n",
       "        ssnnamedob_30_count  ssn_14_count  fulladdresshomephone_14_count  \\\n",
       "record                                                                     \n",
       "19277             -0.097878     -0.072852                       6.095677   \n",
       "19278             -0.097878     -0.072852                      -0.070587   \n",
       "19279             -0.097878     -0.072852                      -0.070587   \n",
       "19280             -0.097878     -0.072852                      -0.070587   \n",
       "19281             -0.097878     -0.072852                      -0.070587   \n",
       "\n",
       "        namedob_14_count  firstnamessn_14_count  ssnnamedob_14_count  \\\n",
       "record                                                                 \n",
       "19277          -0.073782              -0.071503            -0.071056   \n",
       "19278          -0.073782              -0.071503            -0.071056   \n",
       "19279          -0.073782              -0.071503            -0.071056   \n",
       "19280          -0.073782              -0.071503            -0.071056   \n",
       "19281          -0.073782              -0.071503            -0.071056   \n",
       "\n",
       "        lastnamessn_14_count  fulladdresshomephone_7_count  \\\n",
       "record                                                       \n",
       "19277              -0.071466                      6.416826   \n",
       "19278              -0.071466                     -0.057622   \n",
       "19279              -0.071466                     -0.057622   \n",
       "19280              -0.071466                     -0.057622   \n",
       "19281              -0.071466                     -0.057622   \n",
       "\n",
       "        homephone_14_count  homephone_1_count  \n",
       "record                                         \n",
       "19277             1.265044          -0.321508  \n",
       "19278             2.981941           1.269795  \n",
       "19279            -1.024153          -0.321508  \n",
       "19280            -0.451854          -0.321508  \n",
       "19281            -1.024153          -0.321508  "
      ]
     },
     "execution_count": 2,
     "metadata": {},
     "output_type": "execute_result"
    }
   ],
   "source": [
    "data.head()"
   ]
  },
  {
   "cell_type": "code",
   "execution_count": 3,
   "metadata": {
    "nbpresent": {
     "id": "d26d6714-cef7-4d41-a351-91c541107406"
    },
    "scrolled": false
   },
   "outputs": [
    {
     "data": {
      "text/plain": [
       "fraud_label                      False\n",
       "Days_fulladdress                 False\n",
       "fulladdress_30_count             False\n",
       "fulladdress_7_count              False\n",
       "ssn_30_count                     False\n",
       "Days_firstname_ssn               False\n",
       "Days_fulladdress_homephone       False\n",
       "fulladdresshomephone_30_count    False\n",
       "ssnnamedob_30_count              False\n",
       "ssn_14_count                     False\n",
       "fulladdresshomephone_14_count    False\n",
       "namedob_14_count                 False\n",
       "firstnamessn_14_count            False\n",
       "ssnnamedob_14_count              False\n",
       "lastnamessn_14_count             False\n",
       "fulladdresshomephone_7_count     False\n",
       "homephone_14_count               False\n",
       "homephone_1_count                False\n",
       "dtype: bool"
      ]
     },
     "execution_count": 3,
     "metadata": {},
     "output_type": "execute_result"
    }
   ],
   "source": [
    "# test for NAN\n",
    "pd.isnull(data).any()"
   ]
  },
  {
   "cell_type": "code",
   "execution_count": 4,
   "metadata": {},
   "outputs": [],
   "source": [
    "# split data into out of date(after 11/1/10), train and test\n",
    "oot_df = data.iloc[833508:,:]\n",
    "trte_df = data.iloc[:833507,:]"
   ]
  },
  {
   "cell_type": "code",
   "execution_count": 5,
   "metadata": {},
   "outputs": [],
   "source": [
    "train, test = train_test_split(trte_df, test_size=0.2, random_state=0)"
   ]
  },
  {
   "cell_type": "code",
   "execution_count": 6,
   "metadata": {},
   "outputs": [],
   "source": [
    "oot_df.to_csv('oot.csv',index=True)\n",
    "train.to_csv('train.csv',index=True)\n",
    "test.to_csv('test.csv',index=True)"
   ]
  },
  {
   "cell_type": "code",
   "execution_count": 7,
   "metadata": {
    "nbpresent": {
     "id": "082165ed-e1a2-484a-9477-f19bc7fcc478"
    }
   },
   "outputs": [
    {
     "data": {
      "text/html": [
       "<div>\n",
       "<style scoped>\n",
       "    .dataframe tbody tr th:only-of-type {\n",
       "        vertical-align: middle;\n",
       "    }\n",
       "\n",
       "    .dataframe tbody tr th {\n",
       "        vertical-align: top;\n",
       "    }\n",
       "\n",
       "    .dataframe thead th {\n",
       "        text-align: right;\n",
       "    }\n",
       "</style>\n",
       "<table border=\"1\" class=\"dataframe\">\n",
       "  <thead>\n",
       "    <tr style=\"text-align: right;\">\n",
       "      <th></th>\n",
       "      <th>fraud_label</th>\n",
       "      <th>Days_fulladdress</th>\n",
       "      <th>fulladdress_30_count</th>\n",
       "      <th>fulladdress_7_count</th>\n",
       "      <th>ssn_30_count</th>\n",
       "      <th>Days_firstname_ssn</th>\n",
       "      <th>Days_fulladdress_homephone</th>\n",
       "      <th>fulladdresshomephone_30_count</th>\n",
       "      <th>ssnnamedob_30_count</th>\n",
       "      <th>ssn_14_count</th>\n",
       "      <th>fulladdresshomephone_14_count</th>\n",
       "      <th>namedob_14_count</th>\n",
       "      <th>firstnamessn_14_count</th>\n",
       "      <th>ssnnamedob_14_count</th>\n",
       "      <th>lastnamessn_14_count</th>\n",
       "      <th>fulladdresshomephone_7_count</th>\n",
       "      <th>homephone_14_count</th>\n",
       "      <th>homephone_1_count</th>\n",
       "    </tr>\n",
       "    <tr>\n",
       "      <th>record</th>\n",
       "      <th></th>\n",
       "      <th></th>\n",
       "      <th></th>\n",
       "      <th></th>\n",
       "      <th></th>\n",
       "      <th></th>\n",
       "      <th></th>\n",
       "      <th></th>\n",
       "      <th></th>\n",
       "      <th></th>\n",
       "      <th></th>\n",
       "      <th></th>\n",
       "      <th></th>\n",
       "      <th></th>\n",
       "      <th></th>\n",
       "      <th></th>\n",
       "      <th></th>\n",
       "      <th></th>\n",
       "    </tr>\n",
       "  </thead>\n",
       "  <tbody>\n",
       "    <tr>\n",
       "      <th>551013</th>\n",
       "      <td>0</td>\n",
       "      <td>0.407271</td>\n",
       "      <td>-0.102765</td>\n",
       "      <td>-0.067384</td>\n",
       "      <td>-0.099762</td>\n",
       "      <td>0.394060</td>\n",
       "      <td>0.379935</td>\n",
       "      <td>-0.095718</td>\n",
       "      <td>-0.097878</td>\n",
       "      <td>-0.072852</td>\n",
       "      <td>-0.070587</td>\n",
       "      <td>-0.073782</td>\n",
       "      <td>-0.071503</td>\n",
       "      <td>-0.071056</td>\n",
       "      <td>-0.071466</td>\n",
       "      <td>-0.057622</td>\n",
       "      <td>-1.024153</td>\n",
       "      <td>-0.321508</td>\n",
       "    </tr>\n",
       "    <tr>\n",
       "      <th>693196</th>\n",
       "      <td>0</td>\n",
       "      <td>-1.086069</td>\n",
       "      <td>-0.102765</td>\n",
       "      <td>-0.067384</td>\n",
       "      <td>-0.099762</td>\n",
       "      <td>-1.143753</td>\n",
       "      <td>-1.198228</td>\n",
       "      <td>-0.095718</td>\n",
       "      <td>-0.097878</td>\n",
       "      <td>-0.072852</td>\n",
       "      <td>-0.070587</td>\n",
       "      <td>-0.073782</td>\n",
       "      <td>-0.071503</td>\n",
       "      <td>-0.071056</td>\n",
       "      <td>-0.071466</td>\n",
       "      <td>-0.057622</td>\n",
       "      <td>-1.024153</td>\n",
       "      <td>-0.321508</td>\n",
       "    </tr>\n",
       "    <tr>\n",
       "      <th>570219</th>\n",
       "      <td>0</td>\n",
       "      <td>0.407271</td>\n",
       "      <td>-0.102765</td>\n",
       "      <td>-0.067384</td>\n",
       "      <td>-0.099762</td>\n",
       "      <td>0.394060</td>\n",
       "      <td>0.379935</td>\n",
       "      <td>-0.095718</td>\n",
       "      <td>-0.097878</td>\n",
       "      <td>-0.072852</td>\n",
       "      <td>-0.070587</td>\n",
       "      <td>-0.073782</td>\n",
       "      <td>-0.071503</td>\n",
       "      <td>-0.071056</td>\n",
       "      <td>-0.071466</td>\n",
       "      <td>-0.057622</td>\n",
       "      <td>0.120445</td>\n",
       "      <td>-0.321508</td>\n",
       "    </tr>\n",
       "    <tr>\n",
       "      <th>216123</th>\n",
       "      <td>0</td>\n",
       "      <td>0.407271</td>\n",
       "      <td>-0.102765</td>\n",
       "      <td>-0.067384</td>\n",
       "      <td>-0.099762</td>\n",
       "      <td>0.394060</td>\n",
       "      <td>0.379935</td>\n",
       "      <td>-0.095718</td>\n",
       "      <td>-0.097878</td>\n",
       "      <td>-0.072852</td>\n",
       "      <td>-0.070587</td>\n",
       "      <td>-0.073782</td>\n",
       "      <td>-0.071503</td>\n",
       "      <td>-0.071056</td>\n",
       "      <td>-0.071466</td>\n",
       "      <td>-0.057622</td>\n",
       "      <td>-1.024153</td>\n",
       "      <td>-0.321508</td>\n",
       "    </tr>\n",
       "    <tr>\n",
       "      <th>284817</th>\n",
       "      <td>0</td>\n",
       "      <td>0.407271</td>\n",
       "      <td>-0.102765</td>\n",
       "      <td>-0.067384</td>\n",
       "      <td>-0.099762</td>\n",
       "      <td>0.394060</td>\n",
       "      <td>0.379935</td>\n",
       "      <td>-0.095718</td>\n",
       "      <td>-0.097878</td>\n",
       "      <td>-0.072852</td>\n",
       "      <td>-0.070587</td>\n",
       "      <td>-0.073782</td>\n",
       "      <td>-0.071503</td>\n",
       "      <td>-0.071056</td>\n",
       "      <td>-0.071466</td>\n",
       "      <td>-0.057622</td>\n",
       "      <td>-0.451854</td>\n",
       "      <td>-0.321508</td>\n",
       "    </tr>\n",
       "  </tbody>\n",
       "</table>\n",
       "</div>"
      ],
      "text/plain": [
       "        fraud_label  Days_fulladdress  fulladdress_30_count  \\\n",
       "record                                                        \n",
       "551013            0          0.407271             -0.102765   \n",
       "693196            0         -1.086069             -0.102765   \n",
       "570219            0          0.407271             -0.102765   \n",
       "216123            0          0.407271             -0.102765   \n",
       "284817            0          0.407271             -0.102765   \n",
       "\n",
       "        fulladdress_7_count  ssn_30_count  Days_firstname_ssn  \\\n",
       "record                                                          \n",
       "551013            -0.067384     -0.099762            0.394060   \n",
       "693196            -0.067384     -0.099762           -1.143753   \n",
       "570219            -0.067384     -0.099762            0.394060   \n",
       "216123            -0.067384     -0.099762            0.394060   \n",
       "284817            -0.067384     -0.099762            0.394060   \n",
       "\n",
       "        Days_fulladdress_homephone  fulladdresshomephone_30_count  \\\n",
       "record                                                              \n",
       "551013                    0.379935                      -0.095718   \n",
       "693196                   -1.198228                      -0.095718   \n",
       "570219                    0.379935                      -0.095718   \n",
       "216123                    0.379935                      -0.095718   \n",
       "284817                    0.379935                      -0.095718   \n",
       "\n",
       "        ssnnamedob_30_count  ssn_14_count  fulladdresshomephone_14_count  \\\n",
       "record                                                                     \n",
       "551013            -0.097878     -0.072852                      -0.070587   \n",
       "693196            -0.097878     -0.072852                      -0.070587   \n",
       "570219            -0.097878     -0.072852                      -0.070587   \n",
       "216123            -0.097878     -0.072852                      -0.070587   \n",
       "284817            -0.097878     -0.072852                      -0.070587   \n",
       "\n",
       "        namedob_14_count  firstnamessn_14_count  ssnnamedob_14_count  \\\n",
       "record                                                                 \n",
       "551013         -0.073782              -0.071503            -0.071056   \n",
       "693196         -0.073782              -0.071503            -0.071056   \n",
       "570219         -0.073782              -0.071503            -0.071056   \n",
       "216123         -0.073782              -0.071503            -0.071056   \n",
       "284817         -0.073782              -0.071503            -0.071056   \n",
       "\n",
       "        lastnamessn_14_count  fulladdresshomephone_7_count  \\\n",
       "record                                                       \n",
       "551013             -0.071466                     -0.057622   \n",
       "693196             -0.071466                     -0.057622   \n",
       "570219             -0.071466                     -0.057622   \n",
       "216123             -0.071466                     -0.057622   \n",
       "284817             -0.071466                     -0.057622   \n",
       "\n",
       "        homephone_14_count  homephone_1_count  \n",
       "record                                         \n",
       "551013           -1.024153          -0.321508  \n",
       "693196           -1.024153          -0.321508  \n",
       "570219            0.120445          -0.321508  \n",
       "216123           -1.024153          -0.321508  \n",
       "284817           -0.451854          -0.321508  "
      ]
     },
     "execution_count": 7,
     "metadata": {},
     "output_type": "execute_result"
    }
   ],
   "source": [
    "train.head()"
   ]
  },
  {
   "cell_type": "code",
   "execution_count": 8,
   "metadata": {},
   "outputs": [
    {
     "data": {
      "text/html": [
       "<div>\n",
       "<style scoped>\n",
       "    .dataframe tbody tr th:only-of-type {\n",
       "        vertical-align: middle;\n",
       "    }\n",
       "\n",
       "    .dataframe tbody tr th {\n",
       "        vertical-align: top;\n",
       "    }\n",
       "\n",
       "    .dataframe thead th {\n",
       "        text-align: right;\n",
       "    }\n",
       "</style>\n",
       "<table border=\"1\" class=\"dataframe\">\n",
       "  <thead>\n",
       "    <tr style=\"text-align: right;\">\n",
       "      <th></th>\n",
       "      <th>fraud_label</th>\n",
       "      <th>Days_fulladdress</th>\n",
       "      <th>fulladdress_30_count</th>\n",
       "      <th>fulladdress_7_count</th>\n",
       "      <th>ssn_30_count</th>\n",
       "      <th>Days_firstname_ssn</th>\n",
       "      <th>Days_fulladdress_homephone</th>\n",
       "      <th>fulladdresshomephone_30_count</th>\n",
       "      <th>ssnnamedob_30_count</th>\n",
       "      <th>ssn_14_count</th>\n",
       "      <th>fulladdresshomephone_14_count</th>\n",
       "      <th>namedob_14_count</th>\n",
       "      <th>firstnamessn_14_count</th>\n",
       "      <th>ssnnamedob_14_count</th>\n",
       "      <th>lastnamessn_14_count</th>\n",
       "      <th>fulladdresshomephone_7_count</th>\n",
       "      <th>homephone_14_count</th>\n",
       "      <th>homephone_1_count</th>\n",
       "    </tr>\n",
       "  </thead>\n",
       "  <tbody>\n",
       "    <tr>\n",
       "      <th>count</th>\n",
       "      <td>666805.000000</td>\n",
       "      <td>666805.000000</td>\n",
       "      <td>666805.000000</td>\n",
       "      <td>666805.000000</td>\n",
       "      <td>666805.000000</td>\n",
       "      <td>666805.000000</td>\n",
       "      <td>666805.000000</td>\n",
       "      <td>666805.000000</td>\n",
       "      <td>666805.000000</td>\n",
       "      <td>666805.000000</td>\n",
       "      <td>666805.000000</td>\n",
       "      <td>666805.000000</td>\n",
       "      <td>666805.000000</td>\n",
       "      <td>666805.000000</td>\n",
       "      <td>666805.000000</td>\n",
       "      <td>666805.000000</td>\n",
       "      <td>666805.000000</td>\n",
       "      <td>666805.000000</td>\n",
       "    </tr>\n",
       "    <tr>\n",
       "      <th>mean</th>\n",
       "      <td>0.014375</td>\n",
       "      <td>0.026177</td>\n",
       "      <td>0.000864</td>\n",
       "      <td>0.001437</td>\n",
       "      <td>-0.002122</td>\n",
       "      <td>0.026545</td>\n",
       "      <td>0.024819</td>\n",
       "      <td>0.000430</td>\n",
       "      <td>-0.001930</td>\n",
       "      <td>-0.001938</td>\n",
       "      <td>0.000588</td>\n",
       "      <td>-0.001803</td>\n",
       "      <td>-0.001879</td>\n",
       "      <td>-0.001858</td>\n",
       "      <td>-0.001857</td>\n",
       "      <td>0.000474</td>\n",
       "      <td>-0.001849</td>\n",
       "      <td>-0.000820</td>\n",
       "    </tr>\n",
       "    <tr>\n",
       "      <th>std</th>\n",
       "      <td>0.119029</td>\n",
       "      <td>0.985440</td>\n",
       "      <td>1.008351</td>\n",
       "      <td>1.016095</td>\n",
       "      <td>0.972673</td>\n",
       "      <td>0.983547</td>\n",
       "      <td>0.984258</td>\n",
       "      <td>0.999780</td>\n",
       "      <td>0.974900</td>\n",
       "      <td>0.972329</td>\n",
       "      <td>1.001854</td>\n",
       "      <td>0.972889</td>\n",
       "      <td>0.972616</td>\n",
       "      <td>0.972634</td>\n",
       "      <td>0.972650</td>\n",
       "      <td>1.001941</td>\n",
       "      <td>0.997874</td>\n",
       "      <td>0.994287</td>\n",
       "    </tr>\n",
       "    <tr>\n",
       "      <th>min</th>\n",
       "      <td>0.000000</td>\n",
       "      <td>-3.250910</td>\n",
       "      <td>-0.102765</td>\n",
       "      <td>-0.067384</td>\n",
       "      <td>-0.099762</td>\n",
       "      <td>-3.373066</td>\n",
       "      <td>-3.486036</td>\n",
       "      <td>-0.095718</td>\n",
       "      <td>-0.097878</td>\n",
       "      <td>-0.072852</td>\n",
       "      <td>-0.070587</td>\n",
       "      <td>-0.073782</td>\n",
       "      <td>-0.071503</td>\n",
       "      <td>-0.071056</td>\n",
       "      <td>-0.071466</td>\n",
       "      <td>-0.057622</td>\n",
       "      <td>-1.024153</td>\n",
       "      <td>-0.321508</td>\n",
       "    </tr>\n",
       "    <tr>\n",
       "      <th>25%</th>\n",
       "      <td>0.000000</td>\n",
       "      <td>0.407271</td>\n",
       "      <td>-0.102765</td>\n",
       "      <td>-0.067384</td>\n",
       "      <td>-0.099762</td>\n",
       "      <td>0.394060</td>\n",
       "      <td>0.379935</td>\n",
       "      <td>-0.095718</td>\n",
       "      <td>-0.097878</td>\n",
       "      <td>-0.072852</td>\n",
       "      <td>-0.070587</td>\n",
       "      <td>-0.073782</td>\n",
       "      <td>-0.071503</td>\n",
       "      <td>-0.071056</td>\n",
       "      <td>-0.071466</td>\n",
       "      <td>-0.057622</td>\n",
       "      <td>-1.024153</td>\n",
       "      <td>-0.321508</td>\n",
       "    </tr>\n",
       "    <tr>\n",
       "      <th>50%</th>\n",
       "      <td>0.000000</td>\n",
       "      <td>0.407271</td>\n",
       "      <td>-0.102765</td>\n",
       "      <td>-0.067384</td>\n",
       "      <td>-0.099762</td>\n",
       "      <td>0.394060</td>\n",
       "      <td>0.379935</td>\n",
       "      <td>-0.095718</td>\n",
       "      <td>-0.097878</td>\n",
       "      <td>-0.072852</td>\n",
       "      <td>-0.070587</td>\n",
       "      <td>-0.073782</td>\n",
       "      <td>-0.071503</td>\n",
       "      <td>-0.071056</td>\n",
       "      <td>-0.071466</td>\n",
       "      <td>-0.057622</td>\n",
       "      <td>-0.451854</td>\n",
       "      <td>-0.321508</td>\n",
       "    </tr>\n",
       "    <tr>\n",
       "      <th>75%</th>\n",
       "      <td>0.000000</td>\n",
       "      <td>0.407271</td>\n",
       "      <td>-0.102765</td>\n",
       "      <td>-0.067384</td>\n",
       "      <td>-0.099762</td>\n",
       "      <td>0.394060</td>\n",
       "      <td>0.379935</td>\n",
       "      <td>-0.095718</td>\n",
       "      <td>-0.097878</td>\n",
       "      <td>-0.072852</td>\n",
       "      <td>-0.070587</td>\n",
       "      <td>-0.073782</td>\n",
       "      <td>-0.071503</td>\n",
       "      <td>-0.071056</td>\n",
       "      <td>-0.071466</td>\n",
       "      <td>-0.057622</td>\n",
       "      <td>0.692744</td>\n",
       "      <td>-0.321508</td>\n",
       "    </tr>\n",
       "    <tr>\n",
       "      <th>max</th>\n",
       "      <td>1.000000</td>\n",
       "      <td>0.407271</td>\n",
       "      <td>45.431061</td>\n",
       "      <td>49.631994</td>\n",
       "      <td>63.679049</td>\n",
       "      <td>0.394060</td>\n",
       "      <td>0.379935</td>\n",
       "      <td>54.543717</td>\n",
       "      <td>65.579850</td>\n",
       "      <td>68.486675</td>\n",
       "      <td>57.481213</td>\n",
       "      <td>68.945892</td>\n",
       "      <td>69.174366</td>\n",
       "      <td>69.209760</td>\n",
       "      <td>69.177156</td>\n",
       "      <td>60.370557</td>\n",
       "      <td>16.717120</td>\n",
       "      <td>44.234963</td>\n",
       "    </tr>\n",
       "  </tbody>\n",
       "</table>\n",
       "</div>"
      ],
      "text/plain": [
       "         fraud_label  Days_fulladdress  fulladdress_30_count  \\\n",
       "count  666805.000000     666805.000000         666805.000000   \n",
       "mean        0.014375          0.026177              0.000864   \n",
       "std         0.119029          0.985440              1.008351   \n",
       "min         0.000000         -3.250910             -0.102765   \n",
       "25%         0.000000          0.407271             -0.102765   \n",
       "50%         0.000000          0.407271             -0.102765   \n",
       "75%         0.000000          0.407271             -0.102765   \n",
       "max         1.000000          0.407271             45.431061   \n",
       "\n",
       "       fulladdress_7_count   ssn_30_count  Days_firstname_ssn  \\\n",
       "count        666805.000000  666805.000000       666805.000000   \n",
       "mean              0.001437      -0.002122            0.026545   \n",
       "std               1.016095       0.972673            0.983547   \n",
       "min              -0.067384      -0.099762           -3.373066   \n",
       "25%              -0.067384      -0.099762            0.394060   \n",
       "50%              -0.067384      -0.099762            0.394060   \n",
       "75%              -0.067384      -0.099762            0.394060   \n",
       "max              49.631994      63.679049            0.394060   \n",
       "\n",
       "       Days_fulladdress_homephone  fulladdresshomephone_30_count  \\\n",
       "count               666805.000000                  666805.000000   \n",
       "mean                     0.024819                       0.000430   \n",
       "std                      0.984258                       0.999780   \n",
       "min                     -3.486036                      -0.095718   \n",
       "25%                      0.379935                      -0.095718   \n",
       "50%                      0.379935                      -0.095718   \n",
       "75%                      0.379935                      -0.095718   \n",
       "max                      0.379935                      54.543717   \n",
       "\n",
       "       ssnnamedob_30_count   ssn_14_count  fulladdresshomephone_14_count  \\\n",
       "count        666805.000000  666805.000000                  666805.000000   \n",
       "mean             -0.001930      -0.001938                       0.000588   \n",
       "std               0.974900       0.972329                       1.001854   \n",
       "min              -0.097878      -0.072852                      -0.070587   \n",
       "25%              -0.097878      -0.072852                      -0.070587   \n",
       "50%              -0.097878      -0.072852                      -0.070587   \n",
       "75%              -0.097878      -0.072852                      -0.070587   \n",
       "max              65.579850      68.486675                      57.481213   \n",
       "\n",
       "       namedob_14_count  firstnamessn_14_count  ssnnamedob_14_count  \\\n",
       "count     666805.000000          666805.000000        666805.000000   \n",
       "mean          -0.001803              -0.001879            -0.001858   \n",
       "std            0.972889               0.972616             0.972634   \n",
       "min           -0.073782              -0.071503            -0.071056   \n",
       "25%           -0.073782              -0.071503            -0.071056   \n",
       "50%           -0.073782              -0.071503            -0.071056   \n",
       "75%           -0.073782              -0.071503            -0.071056   \n",
       "max           68.945892              69.174366            69.209760   \n",
       "\n",
       "       lastnamessn_14_count  fulladdresshomephone_7_count  homephone_14_count  \\\n",
       "count         666805.000000                 666805.000000       666805.000000   \n",
       "mean              -0.001857                      0.000474           -0.001849   \n",
       "std                0.972650                      1.001941            0.997874   \n",
       "min               -0.071466                     -0.057622           -1.024153   \n",
       "25%               -0.071466                     -0.057622           -1.024153   \n",
       "50%               -0.071466                     -0.057622           -0.451854   \n",
       "75%               -0.071466                     -0.057622            0.692744   \n",
       "max               69.177156                     60.370557           16.717120   \n",
       "\n",
       "       homephone_1_count  \n",
       "count      666805.000000  \n",
       "mean           -0.000820  \n",
       "std             0.994287  \n",
       "min            -0.321508  \n",
       "25%            -0.321508  \n",
       "50%            -0.321508  \n",
       "75%            -0.321508  \n",
       "max            44.234963  "
      ]
     },
     "execution_count": 8,
     "metadata": {},
     "output_type": "execute_result"
    }
   ],
   "source": [
    "train.describe()"
   ]
  },
  {
   "cell_type": "code",
   "execution_count": 9,
   "metadata": {},
   "outputs": [
    {
     "data": {
      "text/plain": [
       "0.01437451728766281"
      ]
     },
     "execution_count": 9,
     "metadata": {},
     "output_type": "execute_result"
    }
   ],
   "source": [
    "sum(train['fraud_label'])/len(train['fraud_label'])"
   ]
  },
  {
   "cell_type": "code",
   "execution_count": 10,
   "metadata": {},
   "outputs": [
    {
     "data": {
      "text/html": [
       "<div>\n",
       "<style scoped>\n",
       "    .dataframe tbody tr th:only-of-type {\n",
       "        vertical-align: middle;\n",
       "    }\n",
       "\n",
       "    .dataframe tbody tr th {\n",
       "        vertical-align: top;\n",
       "    }\n",
       "\n",
       "    .dataframe thead th {\n",
       "        text-align: right;\n",
       "    }\n",
       "</style>\n",
       "<table border=\"1\" class=\"dataframe\">\n",
       "  <thead>\n",
       "    <tr style=\"text-align: right;\">\n",
       "      <th></th>\n",
       "      <th>fraud_label</th>\n",
       "      <th>Days_fulladdress</th>\n",
       "      <th>fulladdress_30_count</th>\n",
       "      <th>fulladdress_7_count</th>\n",
       "      <th>ssn_30_count</th>\n",
       "      <th>Days_firstname_ssn</th>\n",
       "      <th>Days_fulladdress_homephone</th>\n",
       "      <th>fulladdresshomephone_30_count</th>\n",
       "      <th>ssnnamedob_30_count</th>\n",
       "      <th>ssn_14_count</th>\n",
       "      <th>fulladdresshomephone_14_count</th>\n",
       "      <th>namedob_14_count</th>\n",
       "      <th>firstnamessn_14_count</th>\n",
       "      <th>ssnnamedob_14_count</th>\n",
       "      <th>lastnamessn_14_count</th>\n",
       "      <th>fulladdresshomephone_7_count</th>\n",
       "      <th>homephone_14_count</th>\n",
       "      <th>homephone_1_count</th>\n",
       "    </tr>\n",
       "    <tr>\n",
       "      <th>record</th>\n",
       "      <th></th>\n",
       "      <th></th>\n",
       "      <th></th>\n",
       "      <th></th>\n",
       "      <th></th>\n",
       "      <th></th>\n",
       "      <th></th>\n",
       "      <th></th>\n",
       "      <th></th>\n",
       "      <th></th>\n",
       "      <th></th>\n",
       "      <th></th>\n",
       "      <th></th>\n",
       "      <th></th>\n",
       "      <th></th>\n",
       "      <th></th>\n",
       "      <th></th>\n",
       "      <th></th>\n",
       "    </tr>\n",
       "  </thead>\n",
       "  <tbody>\n",
       "    <tr>\n",
       "      <th>128960</th>\n",
       "      <td>0</td>\n",
       "      <td>0.407271</td>\n",
       "      <td>-0.102765</td>\n",
       "      <td>-0.067384</td>\n",
       "      <td>-0.099762</td>\n",
       "      <td>0.394060</td>\n",
       "      <td>0.379935</td>\n",
       "      <td>-0.095718</td>\n",
       "      <td>-0.097878</td>\n",
       "      <td>-0.072852</td>\n",
       "      <td>-0.070587</td>\n",
       "      <td>-0.073782</td>\n",
       "      <td>-0.071503</td>\n",
       "      <td>-0.071056</td>\n",
       "      <td>-0.071466</td>\n",
       "      <td>-0.057622</td>\n",
       "      <td>0.692744</td>\n",
       "      <td>-0.321508</td>\n",
       "    </tr>\n",
       "    <tr>\n",
       "      <th>314906</th>\n",
       "      <td>0</td>\n",
       "      <td>0.407271</td>\n",
       "      <td>-0.102765</td>\n",
       "      <td>-0.067384</td>\n",
       "      <td>-0.099762</td>\n",
       "      <td>0.394060</td>\n",
       "      <td>0.379935</td>\n",
       "      <td>-0.095718</td>\n",
       "      <td>-0.097878</td>\n",
       "      <td>-0.072852</td>\n",
       "      <td>-0.070587</td>\n",
       "      <td>-0.073782</td>\n",
       "      <td>-0.071503</td>\n",
       "      <td>-0.071056</td>\n",
       "      <td>-0.071466</td>\n",
       "      <td>-0.057622</td>\n",
       "      <td>0.692744</td>\n",
       "      <td>1.269795</td>\n",
       "    </tr>\n",
       "    <tr>\n",
       "      <th>588307</th>\n",
       "      <td>0</td>\n",
       "      <td>0.407271</td>\n",
       "      <td>-0.102765</td>\n",
       "      <td>-0.067384</td>\n",
       "      <td>-0.099762</td>\n",
       "      <td>0.394060</td>\n",
       "      <td>0.379935</td>\n",
       "      <td>-0.095718</td>\n",
       "      <td>-0.097878</td>\n",
       "      <td>-0.072852</td>\n",
       "      <td>-0.070587</td>\n",
       "      <td>-0.073782</td>\n",
       "      <td>-0.071503</td>\n",
       "      <td>-0.071056</td>\n",
       "      <td>-0.071466</td>\n",
       "      <td>-0.057622</td>\n",
       "      <td>0.120445</td>\n",
       "      <td>1.269795</td>\n",
       "    </tr>\n",
       "    <tr>\n",
       "      <th>345421</th>\n",
       "      <td>0</td>\n",
       "      <td>0.407271</td>\n",
       "      <td>-0.102765</td>\n",
       "      <td>-0.067384</td>\n",
       "      <td>-0.099762</td>\n",
       "      <td>0.394060</td>\n",
       "      <td>0.379935</td>\n",
       "      <td>-0.095718</td>\n",
       "      <td>-0.097878</td>\n",
       "      <td>-0.072852</td>\n",
       "      <td>-0.070587</td>\n",
       "      <td>-0.073782</td>\n",
       "      <td>-0.071503</td>\n",
       "      <td>-0.071056</td>\n",
       "      <td>-0.071466</td>\n",
       "      <td>-0.057622</td>\n",
       "      <td>2.409642</td>\n",
       "      <td>-0.321508</td>\n",
       "    </tr>\n",
       "    <tr>\n",
       "      <th>593000</th>\n",
       "      <td>0</td>\n",
       "      <td>-1.426831</td>\n",
       "      <td>-0.102765</td>\n",
       "      <td>-0.067384</td>\n",
       "      <td>-0.099762</td>\n",
       "      <td>-1.494663</td>\n",
       "      <td>-1.558346</td>\n",
       "      <td>-0.095718</td>\n",
       "      <td>-0.097878</td>\n",
       "      <td>-0.072852</td>\n",
       "      <td>-0.070587</td>\n",
       "      <td>-0.073782</td>\n",
       "      <td>-0.071503</td>\n",
       "      <td>-0.071056</td>\n",
       "      <td>-0.071466</td>\n",
       "      <td>-0.057622</td>\n",
       "      <td>0.120445</td>\n",
       "      <td>-0.321508</td>\n",
       "    </tr>\n",
       "  </tbody>\n",
       "</table>\n",
       "</div>"
      ],
      "text/plain": [
       "        fraud_label  Days_fulladdress  fulladdress_30_count  \\\n",
       "record                                                        \n",
       "128960            0          0.407271             -0.102765   \n",
       "314906            0          0.407271             -0.102765   \n",
       "588307            0          0.407271             -0.102765   \n",
       "345421            0          0.407271             -0.102765   \n",
       "593000            0         -1.426831             -0.102765   \n",
       "\n",
       "        fulladdress_7_count  ssn_30_count  Days_firstname_ssn  \\\n",
       "record                                                          \n",
       "128960            -0.067384     -0.099762            0.394060   \n",
       "314906            -0.067384     -0.099762            0.394060   \n",
       "588307            -0.067384     -0.099762            0.394060   \n",
       "345421            -0.067384     -0.099762            0.394060   \n",
       "593000            -0.067384     -0.099762           -1.494663   \n",
       "\n",
       "        Days_fulladdress_homephone  fulladdresshomephone_30_count  \\\n",
       "record                                                              \n",
       "128960                    0.379935                      -0.095718   \n",
       "314906                    0.379935                      -0.095718   \n",
       "588307                    0.379935                      -0.095718   \n",
       "345421                    0.379935                      -0.095718   \n",
       "593000                   -1.558346                      -0.095718   \n",
       "\n",
       "        ssnnamedob_30_count  ssn_14_count  fulladdresshomephone_14_count  \\\n",
       "record                                                                     \n",
       "128960            -0.097878     -0.072852                      -0.070587   \n",
       "314906            -0.097878     -0.072852                      -0.070587   \n",
       "588307            -0.097878     -0.072852                      -0.070587   \n",
       "345421            -0.097878     -0.072852                      -0.070587   \n",
       "593000            -0.097878     -0.072852                      -0.070587   \n",
       "\n",
       "        namedob_14_count  firstnamessn_14_count  ssnnamedob_14_count  \\\n",
       "record                                                                 \n",
       "128960         -0.073782              -0.071503            -0.071056   \n",
       "314906         -0.073782              -0.071503            -0.071056   \n",
       "588307         -0.073782              -0.071503            -0.071056   \n",
       "345421         -0.073782              -0.071503            -0.071056   \n",
       "593000         -0.073782              -0.071503            -0.071056   \n",
       "\n",
       "        lastnamessn_14_count  fulladdresshomephone_7_count  \\\n",
       "record                                                       \n",
       "128960             -0.071466                     -0.057622   \n",
       "314906             -0.071466                     -0.057622   \n",
       "588307             -0.071466                     -0.057622   \n",
       "345421             -0.071466                     -0.057622   \n",
       "593000             -0.071466                     -0.057622   \n",
       "\n",
       "        homephone_14_count  homephone_1_count  \n",
       "record                                         \n",
       "128960            0.692744          -0.321508  \n",
       "314906            0.692744           1.269795  \n",
       "588307            0.120445           1.269795  \n",
       "345421            2.409642          -0.321508  \n",
       "593000            0.120445          -0.321508  "
      ]
     },
     "execution_count": 10,
     "metadata": {},
     "output_type": "execute_result"
    }
   ],
   "source": [
    "test.head()"
   ]
  },
  {
   "cell_type": "code",
   "execution_count": 11,
   "metadata": {},
   "outputs": [
    {
     "data": {
      "text/html": [
       "<div>\n",
       "<style scoped>\n",
       "    .dataframe tbody tr th:only-of-type {\n",
       "        vertical-align: middle;\n",
       "    }\n",
       "\n",
       "    .dataframe tbody tr th {\n",
       "        vertical-align: top;\n",
       "    }\n",
       "\n",
       "    .dataframe thead th {\n",
       "        text-align: right;\n",
       "    }\n",
       "</style>\n",
       "<table border=\"1\" class=\"dataframe\">\n",
       "  <thead>\n",
       "    <tr style=\"text-align: right;\">\n",
       "      <th></th>\n",
       "      <th>fraud_label</th>\n",
       "      <th>Days_fulladdress</th>\n",
       "      <th>fulladdress_30_count</th>\n",
       "      <th>fulladdress_7_count</th>\n",
       "      <th>ssn_30_count</th>\n",
       "      <th>Days_firstname_ssn</th>\n",
       "      <th>Days_fulladdress_homephone</th>\n",
       "      <th>fulladdresshomephone_30_count</th>\n",
       "      <th>ssnnamedob_30_count</th>\n",
       "      <th>ssn_14_count</th>\n",
       "      <th>fulladdresshomephone_14_count</th>\n",
       "      <th>namedob_14_count</th>\n",
       "      <th>firstnamessn_14_count</th>\n",
       "      <th>ssnnamedob_14_count</th>\n",
       "      <th>lastnamessn_14_count</th>\n",
       "      <th>fulladdresshomephone_7_count</th>\n",
       "      <th>homephone_14_count</th>\n",
       "      <th>homephone_1_count</th>\n",
       "    </tr>\n",
       "  </thead>\n",
       "  <tbody>\n",
       "    <tr>\n",
       "      <th>count</th>\n",
       "      <td>166702.000000</td>\n",
       "      <td>166702.000000</td>\n",
       "      <td>166702.000000</td>\n",
       "      <td>166702.000000</td>\n",
       "      <td>166702.000000</td>\n",
       "      <td>166702.000000</td>\n",
       "      <td>166702.000000</td>\n",
       "      <td>166702.000000</td>\n",
       "      <td>166702.000000</td>\n",
       "      <td>166702.000000</td>\n",
       "      <td>166702.000000</td>\n",
       "      <td>166702.000000</td>\n",
       "      <td>166702.000000</td>\n",
       "      <td>166702.000000</td>\n",
       "      <td>166702.000000</td>\n",
       "      <td>166702.000000</td>\n",
       "      <td>166702.000000</td>\n",
       "      <td>166702.000000</td>\n",
       "    </tr>\n",
       "    <tr>\n",
       "      <th>mean</th>\n",
       "      <td>0.014745</td>\n",
       "      <td>0.028989</td>\n",
       "      <td>-0.002624</td>\n",
       "      <td>-0.002689</td>\n",
       "      <td>0.000489</td>\n",
       "      <td>0.028659</td>\n",
       "      <td>0.028532</td>\n",
       "      <td>-0.004142</td>\n",
       "      <td>-0.000027</td>\n",
       "      <td>0.000467</td>\n",
       "      <td>-0.003796</td>\n",
       "      <td>0.000267</td>\n",
       "      <td>0.000422</td>\n",
       "      <td>0.000251</td>\n",
       "      <td>0.000362</td>\n",
       "      <td>-0.003999</td>\n",
       "      <td>0.000971</td>\n",
       "      <td>0.000195</td>\n",
       "    </tr>\n",
       "    <tr>\n",
       "      <th>std</th>\n",
       "      <td>0.120530</td>\n",
       "      <td>0.982909</td>\n",
       "      <td>0.963664</td>\n",
       "      <td>0.956126</td>\n",
       "      <td>0.997508</td>\n",
       "      <td>0.982308</td>\n",
       "      <td>0.980028</td>\n",
       "      <td>0.942511</td>\n",
       "      <td>0.991478</td>\n",
       "      <td>0.995117</td>\n",
       "      <td>0.934752</td>\n",
       "      <td>0.994562</td>\n",
       "      <td>0.994575</td>\n",
       "      <td>0.994327</td>\n",
       "      <td>0.994489</td>\n",
       "      <td>0.922509</td>\n",
       "      <td>0.997750</td>\n",
       "      <td>0.965520</td>\n",
       "    </tr>\n",
       "    <tr>\n",
       "      <th>min</th>\n",
       "      <td>0.000000</td>\n",
       "      <td>-3.250910</td>\n",
       "      <td>-0.102765</td>\n",
       "      <td>-0.067384</td>\n",
       "      <td>-0.099762</td>\n",
       "      <td>-3.373066</td>\n",
       "      <td>-3.486036</td>\n",
       "      <td>-0.095718</td>\n",
       "      <td>-0.097878</td>\n",
       "      <td>-0.072852</td>\n",
       "      <td>-0.070587</td>\n",
       "      <td>-0.073782</td>\n",
       "      <td>-0.071503</td>\n",
       "      <td>-0.071056</td>\n",
       "      <td>-0.071466</td>\n",
       "      <td>-0.057622</td>\n",
       "      <td>-1.024153</td>\n",
       "      <td>-0.321508</td>\n",
       "    </tr>\n",
       "    <tr>\n",
       "      <th>25%</th>\n",
       "      <td>0.000000</td>\n",
       "      <td>0.407271</td>\n",
       "      <td>-0.102765</td>\n",
       "      <td>-0.067384</td>\n",
       "      <td>-0.099762</td>\n",
       "      <td>0.394060</td>\n",
       "      <td>0.379935</td>\n",
       "      <td>-0.095718</td>\n",
       "      <td>-0.097878</td>\n",
       "      <td>-0.072852</td>\n",
       "      <td>-0.070587</td>\n",
       "      <td>-0.073782</td>\n",
       "      <td>-0.071503</td>\n",
       "      <td>-0.071056</td>\n",
       "      <td>-0.071466</td>\n",
       "      <td>-0.057622</td>\n",
       "      <td>-1.024153</td>\n",
       "      <td>-0.321508</td>\n",
       "    </tr>\n",
       "    <tr>\n",
       "      <th>50%</th>\n",
       "      <td>0.000000</td>\n",
       "      <td>0.407271</td>\n",
       "      <td>-0.102765</td>\n",
       "      <td>-0.067384</td>\n",
       "      <td>-0.099762</td>\n",
       "      <td>0.394060</td>\n",
       "      <td>0.379935</td>\n",
       "      <td>-0.095718</td>\n",
       "      <td>-0.097878</td>\n",
       "      <td>-0.072852</td>\n",
       "      <td>-0.070587</td>\n",
       "      <td>-0.073782</td>\n",
       "      <td>-0.071503</td>\n",
       "      <td>-0.071056</td>\n",
       "      <td>-0.071466</td>\n",
       "      <td>-0.057622</td>\n",
       "      <td>-0.451854</td>\n",
       "      <td>-0.321508</td>\n",
       "    </tr>\n",
       "    <tr>\n",
       "      <th>75%</th>\n",
       "      <td>0.000000</td>\n",
       "      <td>0.407271</td>\n",
       "      <td>-0.102765</td>\n",
       "      <td>-0.067384</td>\n",
       "      <td>-0.099762</td>\n",
       "      <td>0.394060</td>\n",
       "      <td>0.379935</td>\n",
       "      <td>-0.095718</td>\n",
       "      <td>-0.097878</td>\n",
       "      <td>-0.072852</td>\n",
       "      <td>-0.070587</td>\n",
       "      <td>-0.073782</td>\n",
       "      <td>-0.071503</td>\n",
       "      <td>-0.071056</td>\n",
       "      <td>-0.071466</td>\n",
       "      <td>-0.057622</td>\n",
       "      <td>0.692744</td>\n",
       "      <td>-0.321508</td>\n",
       "    </tr>\n",
       "    <tr>\n",
       "      <th>max</th>\n",
       "      <td>1.000000</td>\n",
       "      <td>0.407271</td>\n",
       "      <td>40.720665</td>\n",
       "      <td>44.490679</td>\n",
       "      <td>57.880975</td>\n",
       "      <td>0.394060</td>\n",
       "      <td>0.379935</td>\n",
       "      <td>48.689492</td>\n",
       "      <td>59.609147</td>\n",
       "      <td>62.253990</td>\n",
       "      <td>51.314948</td>\n",
       "      <td>62.671377</td>\n",
       "      <td>62.879287</td>\n",
       "      <td>62.911504</td>\n",
       "      <td>62.881827</td>\n",
       "      <td>53.896109</td>\n",
       "      <td>15.000222</td>\n",
       "      <td>41.052358</td>\n",
       "    </tr>\n",
       "  </tbody>\n",
       "</table>\n",
       "</div>"
      ],
      "text/plain": [
       "         fraud_label  Days_fulladdress  fulladdress_30_count  \\\n",
       "count  166702.000000     166702.000000         166702.000000   \n",
       "mean        0.014745          0.028989             -0.002624   \n",
       "std         0.120530          0.982909              0.963664   \n",
       "min         0.000000         -3.250910             -0.102765   \n",
       "25%         0.000000          0.407271             -0.102765   \n",
       "50%         0.000000          0.407271             -0.102765   \n",
       "75%         0.000000          0.407271             -0.102765   \n",
       "max         1.000000          0.407271             40.720665   \n",
       "\n",
       "       fulladdress_7_count   ssn_30_count  Days_firstname_ssn  \\\n",
       "count        166702.000000  166702.000000       166702.000000   \n",
       "mean             -0.002689       0.000489            0.028659   \n",
       "std               0.956126       0.997508            0.982308   \n",
       "min              -0.067384      -0.099762           -3.373066   \n",
       "25%              -0.067384      -0.099762            0.394060   \n",
       "50%              -0.067384      -0.099762            0.394060   \n",
       "75%              -0.067384      -0.099762            0.394060   \n",
       "max              44.490679      57.880975            0.394060   \n",
       "\n",
       "       Days_fulladdress_homephone  fulladdresshomephone_30_count  \\\n",
       "count               166702.000000                  166702.000000   \n",
       "mean                     0.028532                      -0.004142   \n",
       "std                      0.980028                       0.942511   \n",
       "min                     -3.486036                      -0.095718   \n",
       "25%                      0.379935                      -0.095718   \n",
       "50%                      0.379935                      -0.095718   \n",
       "75%                      0.379935                      -0.095718   \n",
       "max                      0.379935                      48.689492   \n",
       "\n",
       "       ssnnamedob_30_count   ssn_14_count  fulladdresshomephone_14_count  \\\n",
       "count        166702.000000  166702.000000                  166702.000000   \n",
       "mean             -0.000027       0.000467                      -0.003796   \n",
       "std               0.991478       0.995117                       0.934752   \n",
       "min              -0.097878      -0.072852                      -0.070587   \n",
       "25%              -0.097878      -0.072852                      -0.070587   \n",
       "50%              -0.097878      -0.072852                      -0.070587   \n",
       "75%              -0.097878      -0.072852                      -0.070587   \n",
       "max              59.609147      62.253990                      51.314948   \n",
       "\n",
       "       namedob_14_count  firstnamessn_14_count  ssnnamedob_14_count  \\\n",
       "count     166702.000000          166702.000000        166702.000000   \n",
       "mean           0.000267               0.000422             0.000251   \n",
       "std            0.994562               0.994575             0.994327   \n",
       "min           -0.073782              -0.071503            -0.071056   \n",
       "25%           -0.073782              -0.071503            -0.071056   \n",
       "50%           -0.073782              -0.071503            -0.071056   \n",
       "75%           -0.073782              -0.071503            -0.071056   \n",
       "max           62.671377              62.879287            62.911504   \n",
       "\n",
       "       lastnamessn_14_count  fulladdresshomephone_7_count  homephone_14_count  \\\n",
       "count         166702.000000                 166702.000000       166702.000000   \n",
       "mean               0.000362                     -0.003999            0.000971   \n",
       "std                0.994489                      0.922509            0.997750   \n",
       "min               -0.071466                     -0.057622           -1.024153   \n",
       "25%               -0.071466                     -0.057622           -1.024153   \n",
       "50%               -0.071466                     -0.057622           -0.451854   \n",
       "75%               -0.071466                     -0.057622            0.692744   \n",
       "max               62.881827                     53.896109           15.000222   \n",
       "\n",
       "       homephone_1_count  \n",
       "count      166702.000000  \n",
       "mean            0.000195  \n",
       "std             0.965520  \n",
       "min            -0.321508  \n",
       "25%            -0.321508  \n",
       "50%            -0.321508  \n",
       "75%            -0.321508  \n",
       "max            41.052358  "
      ]
     },
     "execution_count": 11,
     "metadata": {},
     "output_type": "execute_result"
    }
   ],
   "source": [
    "test.describe()"
   ]
  },
  {
   "cell_type": "code",
   "execution_count": 12,
   "metadata": {},
   "outputs": [
    {
     "data": {
      "text/plain": [
       "0.01474487408669362"
      ]
     },
     "execution_count": 12,
     "metadata": {},
     "output_type": "execute_result"
    }
   ],
   "source": [
    "sum(test['fraud_label'])/len(test['fraud_label'])"
   ]
  },
  {
   "cell_type": "markdown",
   "metadata": {
    "nbpresent": {
     "id": "6dd1e682-6841-4836-a4cd-9786c98d6d8d"
    }
   },
   "source": [
    "## Build algorithm"
   ]
  },
  {
   "cell_type": "code",
   "execution_count": 13,
   "metadata": {
    "nbpresent": {
     "id": "8ff86ed0-ffa6-4cf9-8314-f3b419fa06ce"
    },
    "scrolled": true
   },
   "outputs": [
    {
     "data": {
      "text/html": [
       "<div>\n",
       "<style scoped>\n",
       "    .dataframe tbody tr th:only-of-type {\n",
       "        vertical-align: middle;\n",
       "    }\n",
       "\n",
       "    .dataframe tbody tr th {\n",
       "        vertical-align: top;\n",
       "    }\n",
       "\n",
       "    .dataframe thead th {\n",
       "        text-align: right;\n",
       "    }\n",
       "</style>\n",
       "<table border=\"1\" class=\"dataframe\">\n",
       "  <thead>\n",
       "    <tr style=\"text-align: right;\">\n",
       "      <th></th>\n",
       "      <th>Days_fulladdress</th>\n",
       "      <th>fulladdress_30_count</th>\n",
       "      <th>fulladdress_7_count</th>\n",
       "      <th>ssn_30_count</th>\n",
       "      <th>Days_firstname_ssn</th>\n",
       "      <th>Days_fulladdress_homephone</th>\n",
       "      <th>fulladdresshomephone_30_count</th>\n",
       "      <th>ssnnamedob_30_count</th>\n",
       "      <th>ssn_14_count</th>\n",
       "      <th>fulladdresshomephone_14_count</th>\n",
       "      <th>namedob_14_count</th>\n",
       "      <th>firstnamessn_14_count</th>\n",
       "      <th>ssnnamedob_14_count</th>\n",
       "      <th>lastnamessn_14_count</th>\n",
       "      <th>fulladdresshomephone_7_count</th>\n",
       "      <th>homephone_14_count</th>\n",
       "      <th>homephone_1_count</th>\n",
       "    </tr>\n",
       "    <tr>\n",
       "      <th>record</th>\n",
       "      <th></th>\n",
       "      <th></th>\n",
       "      <th></th>\n",
       "      <th></th>\n",
       "      <th></th>\n",
       "      <th></th>\n",
       "      <th></th>\n",
       "      <th></th>\n",
       "      <th></th>\n",
       "      <th></th>\n",
       "      <th></th>\n",
       "      <th></th>\n",
       "      <th></th>\n",
       "      <th></th>\n",
       "      <th></th>\n",
       "      <th></th>\n",
       "      <th></th>\n",
       "    </tr>\n",
       "  </thead>\n",
       "  <tbody>\n",
       "    <tr>\n",
       "      <th>551013</th>\n",
       "      <td>0.407271</td>\n",
       "      <td>-0.102765</td>\n",
       "      <td>-0.067384</td>\n",
       "      <td>-0.099762</td>\n",
       "      <td>0.394060</td>\n",
       "      <td>0.379935</td>\n",
       "      <td>-0.095718</td>\n",
       "      <td>-0.097878</td>\n",
       "      <td>-0.072852</td>\n",
       "      <td>-0.070587</td>\n",
       "      <td>-0.073782</td>\n",
       "      <td>-0.071503</td>\n",
       "      <td>-0.071056</td>\n",
       "      <td>-0.071466</td>\n",
       "      <td>-0.057622</td>\n",
       "      <td>-1.024153</td>\n",
       "      <td>-0.321508</td>\n",
       "    </tr>\n",
       "    <tr>\n",
       "      <th>693196</th>\n",
       "      <td>-1.086069</td>\n",
       "      <td>-0.102765</td>\n",
       "      <td>-0.067384</td>\n",
       "      <td>-0.099762</td>\n",
       "      <td>-1.143753</td>\n",
       "      <td>-1.198228</td>\n",
       "      <td>-0.095718</td>\n",
       "      <td>-0.097878</td>\n",
       "      <td>-0.072852</td>\n",
       "      <td>-0.070587</td>\n",
       "      <td>-0.073782</td>\n",
       "      <td>-0.071503</td>\n",
       "      <td>-0.071056</td>\n",
       "      <td>-0.071466</td>\n",
       "      <td>-0.057622</td>\n",
       "      <td>-1.024153</td>\n",
       "      <td>-0.321508</td>\n",
       "    </tr>\n",
       "    <tr>\n",
       "      <th>570219</th>\n",
       "      <td>0.407271</td>\n",
       "      <td>-0.102765</td>\n",
       "      <td>-0.067384</td>\n",
       "      <td>-0.099762</td>\n",
       "      <td>0.394060</td>\n",
       "      <td>0.379935</td>\n",
       "      <td>-0.095718</td>\n",
       "      <td>-0.097878</td>\n",
       "      <td>-0.072852</td>\n",
       "      <td>-0.070587</td>\n",
       "      <td>-0.073782</td>\n",
       "      <td>-0.071503</td>\n",
       "      <td>-0.071056</td>\n",
       "      <td>-0.071466</td>\n",
       "      <td>-0.057622</td>\n",
       "      <td>0.120445</td>\n",
       "      <td>-0.321508</td>\n",
       "    </tr>\n",
       "    <tr>\n",
       "      <th>216123</th>\n",
       "      <td>0.407271</td>\n",
       "      <td>-0.102765</td>\n",
       "      <td>-0.067384</td>\n",
       "      <td>-0.099762</td>\n",
       "      <td>0.394060</td>\n",
       "      <td>0.379935</td>\n",
       "      <td>-0.095718</td>\n",
       "      <td>-0.097878</td>\n",
       "      <td>-0.072852</td>\n",
       "      <td>-0.070587</td>\n",
       "      <td>-0.073782</td>\n",
       "      <td>-0.071503</td>\n",
       "      <td>-0.071056</td>\n",
       "      <td>-0.071466</td>\n",
       "      <td>-0.057622</td>\n",
       "      <td>-1.024153</td>\n",
       "      <td>-0.321508</td>\n",
       "    </tr>\n",
       "    <tr>\n",
       "      <th>284817</th>\n",
       "      <td>0.407271</td>\n",
       "      <td>-0.102765</td>\n",
       "      <td>-0.067384</td>\n",
       "      <td>-0.099762</td>\n",
       "      <td>0.394060</td>\n",
       "      <td>0.379935</td>\n",
       "      <td>-0.095718</td>\n",
       "      <td>-0.097878</td>\n",
       "      <td>-0.072852</td>\n",
       "      <td>-0.070587</td>\n",
       "      <td>-0.073782</td>\n",
       "      <td>-0.071503</td>\n",
       "      <td>-0.071056</td>\n",
       "      <td>-0.071466</td>\n",
       "      <td>-0.057622</td>\n",
       "      <td>-0.451854</td>\n",
       "      <td>-0.321508</td>\n",
       "    </tr>\n",
       "  </tbody>\n",
       "</table>\n",
       "</div>"
      ],
      "text/plain": [
       "        Days_fulladdress  fulladdress_30_count  fulladdress_7_count  \\\n",
       "record                                                                \n",
       "551013          0.407271             -0.102765            -0.067384   \n",
       "693196         -1.086069             -0.102765            -0.067384   \n",
       "570219          0.407271             -0.102765            -0.067384   \n",
       "216123          0.407271             -0.102765            -0.067384   \n",
       "284817          0.407271             -0.102765            -0.067384   \n",
       "\n",
       "        ssn_30_count  Days_firstname_ssn  Days_fulladdress_homephone  \\\n",
       "record                                                                 \n",
       "551013     -0.099762            0.394060                    0.379935   \n",
       "693196     -0.099762           -1.143753                   -1.198228   \n",
       "570219     -0.099762            0.394060                    0.379935   \n",
       "216123     -0.099762            0.394060                    0.379935   \n",
       "284817     -0.099762            0.394060                    0.379935   \n",
       "\n",
       "        fulladdresshomephone_30_count  ssnnamedob_30_count  ssn_14_count  \\\n",
       "record                                                                     \n",
       "551013                      -0.095718            -0.097878     -0.072852   \n",
       "693196                      -0.095718            -0.097878     -0.072852   \n",
       "570219                      -0.095718            -0.097878     -0.072852   \n",
       "216123                      -0.095718            -0.097878     -0.072852   \n",
       "284817                      -0.095718            -0.097878     -0.072852   \n",
       "\n",
       "        fulladdresshomephone_14_count  namedob_14_count  \\\n",
       "record                                                    \n",
       "551013                      -0.070587         -0.073782   \n",
       "693196                      -0.070587         -0.073782   \n",
       "570219                      -0.070587         -0.073782   \n",
       "216123                      -0.070587         -0.073782   \n",
       "284817                      -0.070587         -0.073782   \n",
       "\n",
       "        firstnamessn_14_count  ssnnamedob_14_count  lastnamessn_14_count  \\\n",
       "record                                                                     \n",
       "551013              -0.071503            -0.071056             -0.071466   \n",
       "693196              -0.071503            -0.071056             -0.071466   \n",
       "570219              -0.071503            -0.071056             -0.071466   \n",
       "216123              -0.071503            -0.071056             -0.071466   \n",
       "284817              -0.071503            -0.071056             -0.071466   \n",
       "\n",
       "        fulladdresshomephone_7_count  homephone_14_count  homephone_1_count  \n",
       "record                                                                       \n",
       "551013                     -0.057622           -1.024153          -0.321508  \n",
       "693196                     -0.057622           -1.024153          -0.321508  \n",
       "570219                     -0.057622            0.120445          -0.321508  \n",
       "216123                     -0.057622           -1.024153          -0.321508  \n",
       "284817                     -0.057622           -0.451854          -0.321508  "
      ]
     },
     "execution_count": 13,
     "metadata": {},
     "output_type": "execute_result"
    }
   ],
   "source": [
    "# split lables and features\n",
    "train_lab = train[\"fraud_label\"]\n",
    "train_fea = train.iloc[:,1:]\n",
    "\n",
    "train_fea.head()"
   ]
  },
  {
   "cell_type": "code",
   "execution_count": 14,
   "metadata": {},
   "outputs": [
    {
     "data": {
      "text/html": [
       "<div>\n",
       "<style scoped>\n",
       "    .dataframe tbody tr th:only-of-type {\n",
       "        vertical-align: middle;\n",
       "    }\n",
       "\n",
       "    .dataframe tbody tr th {\n",
       "        vertical-align: top;\n",
       "    }\n",
       "\n",
       "    .dataframe thead th {\n",
       "        text-align: right;\n",
       "    }\n",
       "</style>\n",
       "<table border=\"1\" class=\"dataframe\">\n",
       "  <thead>\n",
       "    <tr style=\"text-align: right;\">\n",
       "      <th></th>\n",
       "      <th>Days_fulladdress</th>\n",
       "      <th>fulladdress_30_count</th>\n",
       "      <th>fulladdress_7_count</th>\n",
       "      <th>ssn_30_count</th>\n",
       "      <th>Days_firstname_ssn</th>\n",
       "      <th>Days_fulladdress_homephone</th>\n",
       "      <th>fulladdresshomephone_30_count</th>\n",
       "      <th>ssnnamedob_30_count</th>\n",
       "      <th>ssn_14_count</th>\n",
       "      <th>fulladdresshomephone_14_count</th>\n",
       "      <th>namedob_14_count</th>\n",
       "      <th>firstnamessn_14_count</th>\n",
       "      <th>ssnnamedob_14_count</th>\n",
       "      <th>lastnamessn_14_count</th>\n",
       "      <th>fulladdresshomephone_7_count</th>\n",
       "      <th>homephone_14_count</th>\n",
       "      <th>homephone_1_count</th>\n",
       "    </tr>\n",
       "    <tr>\n",
       "      <th>record</th>\n",
       "      <th></th>\n",
       "      <th></th>\n",
       "      <th></th>\n",
       "      <th></th>\n",
       "      <th></th>\n",
       "      <th></th>\n",
       "      <th></th>\n",
       "      <th></th>\n",
       "      <th></th>\n",
       "      <th></th>\n",
       "      <th></th>\n",
       "      <th></th>\n",
       "      <th></th>\n",
       "      <th></th>\n",
       "      <th></th>\n",
       "      <th></th>\n",
       "      <th></th>\n",
       "    </tr>\n",
       "  </thead>\n",
       "  <tbody>\n",
       "    <tr>\n",
       "      <th>128960</th>\n",
       "      <td>0.407271</td>\n",
       "      <td>-0.102765</td>\n",
       "      <td>-0.067384</td>\n",
       "      <td>-0.099762</td>\n",
       "      <td>0.394060</td>\n",
       "      <td>0.379935</td>\n",
       "      <td>-0.095718</td>\n",
       "      <td>-0.097878</td>\n",
       "      <td>-0.072852</td>\n",
       "      <td>-0.070587</td>\n",
       "      <td>-0.073782</td>\n",
       "      <td>-0.071503</td>\n",
       "      <td>-0.071056</td>\n",
       "      <td>-0.071466</td>\n",
       "      <td>-0.057622</td>\n",
       "      <td>0.692744</td>\n",
       "      <td>-0.321508</td>\n",
       "    </tr>\n",
       "    <tr>\n",
       "      <th>314906</th>\n",
       "      <td>0.407271</td>\n",
       "      <td>-0.102765</td>\n",
       "      <td>-0.067384</td>\n",
       "      <td>-0.099762</td>\n",
       "      <td>0.394060</td>\n",
       "      <td>0.379935</td>\n",
       "      <td>-0.095718</td>\n",
       "      <td>-0.097878</td>\n",
       "      <td>-0.072852</td>\n",
       "      <td>-0.070587</td>\n",
       "      <td>-0.073782</td>\n",
       "      <td>-0.071503</td>\n",
       "      <td>-0.071056</td>\n",
       "      <td>-0.071466</td>\n",
       "      <td>-0.057622</td>\n",
       "      <td>0.692744</td>\n",
       "      <td>1.269795</td>\n",
       "    </tr>\n",
       "    <tr>\n",
       "      <th>588307</th>\n",
       "      <td>0.407271</td>\n",
       "      <td>-0.102765</td>\n",
       "      <td>-0.067384</td>\n",
       "      <td>-0.099762</td>\n",
       "      <td>0.394060</td>\n",
       "      <td>0.379935</td>\n",
       "      <td>-0.095718</td>\n",
       "      <td>-0.097878</td>\n",
       "      <td>-0.072852</td>\n",
       "      <td>-0.070587</td>\n",
       "      <td>-0.073782</td>\n",
       "      <td>-0.071503</td>\n",
       "      <td>-0.071056</td>\n",
       "      <td>-0.071466</td>\n",
       "      <td>-0.057622</td>\n",
       "      <td>0.120445</td>\n",
       "      <td>1.269795</td>\n",
       "    </tr>\n",
       "    <tr>\n",
       "      <th>345421</th>\n",
       "      <td>0.407271</td>\n",
       "      <td>-0.102765</td>\n",
       "      <td>-0.067384</td>\n",
       "      <td>-0.099762</td>\n",
       "      <td>0.394060</td>\n",
       "      <td>0.379935</td>\n",
       "      <td>-0.095718</td>\n",
       "      <td>-0.097878</td>\n",
       "      <td>-0.072852</td>\n",
       "      <td>-0.070587</td>\n",
       "      <td>-0.073782</td>\n",
       "      <td>-0.071503</td>\n",
       "      <td>-0.071056</td>\n",
       "      <td>-0.071466</td>\n",
       "      <td>-0.057622</td>\n",
       "      <td>2.409642</td>\n",
       "      <td>-0.321508</td>\n",
       "    </tr>\n",
       "    <tr>\n",
       "      <th>593000</th>\n",
       "      <td>-1.426831</td>\n",
       "      <td>-0.102765</td>\n",
       "      <td>-0.067384</td>\n",
       "      <td>-0.099762</td>\n",
       "      <td>-1.494663</td>\n",
       "      <td>-1.558346</td>\n",
       "      <td>-0.095718</td>\n",
       "      <td>-0.097878</td>\n",
       "      <td>-0.072852</td>\n",
       "      <td>-0.070587</td>\n",
       "      <td>-0.073782</td>\n",
       "      <td>-0.071503</td>\n",
       "      <td>-0.071056</td>\n",
       "      <td>-0.071466</td>\n",
       "      <td>-0.057622</td>\n",
       "      <td>0.120445</td>\n",
       "      <td>-0.321508</td>\n",
       "    </tr>\n",
       "  </tbody>\n",
       "</table>\n",
       "</div>"
      ],
      "text/plain": [
       "        Days_fulladdress  fulladdress_30_count  fulladdress_7_count  \\\n",
       "record                                                                \n",
       "128960          0.407271             -0.102765            -0.067384   \n",
       "314906          0.407271             -0.102765            -0.067384   \n",
       "588307          0.407271             -0.102765            -0.067384   \n",
       "345421          0.407271             -0.102765            -0.067384   \n",
       "593000         -1.426831             -0.102765            -0.067384   \n",
       "\n",
       "        ssn_30_count  Days_firstname_ssn  Days_fulladdress_homephone  \\\n",
       "record                                                                 \n",
       "128960     -0.099762            0.394060                    0.379935   \n",
       "314906     -0.099762            0.394060                    0.379935   \n",
       "588307     -0.099762            0.394060                    0.379935   \n",
       "345421     -0.099762            0.394060                    0.379935   \n",
       "593000     -0.099762           -1.494663                   -1.558346   \n",
       "\n",
       "        fulladdresshomephone_30_count  ssnnamedob_30_count  ssn_14_count  \\\n",
       "record                                                                     \n",
       "128960                      -0.095718            -0.097878     -0.072852   \n",
       "314906                      -0.095718            -0.097878     -0.072852   \n",
       "588307                      -0.095718            -0.097878     -0.072852   \n",
       "345421                      -0.095718            -0.097878     -0.072852   \n",
       "593000                      -0.095718            -0.097878     -0.072852   \n",
       "\n",
       "        fulladdresshomephone_14_count  namedob_14_count  \\\n",
       "record                                                    \n",
       "128960                      -0.070587         -0.073782   \n",
       "314906                      -0.070587         -0.073782   \n",
       "588307                      -0.070587         -0.073782   \n",
       "345421                      -0.070587         -0.073782   \n",
       "593000                      -0.070587         -0.073782   \n",
       "\n",
       "        firstnamessn_14_count  ssnnamedob_14_count  lastnamessn_14_count  \\\n",
       "record                                                                     \n",
       "128960              -0.071503            -0.071056             -0.071466   \n",
       "314906              -0.071503            -0.071056             -0.071466   \n",
       "588307              -0.071503            -0.071056             -0.071466   \n",
       "345421              -0.071503            -0.071056             -0.071466   \n",
       "593000              -0.071503            -0.071056             -0.071466   \n",
       "\n",
       "        fulladdresshomephone_7_count  homephone_14_count  homephone_1_count  \n",
       "record                                                                       \n",
       "128960                     -0.057622            0.692744          -0.321508  \n",
       "314906                     -0.057622            0.692744           1.269795  \n",
       "588307                     -0.057622            0.120445           1.269795  \n",
       "345421                     -0.057622            2.409642          -0.321508  \n",
       "593000                     -0.057622            0.120445          -0.321508  "
      ]
     },
     "execution_count": 14,
     "metadata": {},
     "output_type": "execute_result"
    }
   ],
   "source": [
    "test_lab = test[\"fraud_label\"]\n",
    "test_fea = test.iloc[:,1:]\n",
    "\n",
    "test_fea.head()"
   ]
  },
  {
   "cell_type": "code",
   "execution_count": 15,
   "metadata": {},
   "outputs": [
    {
     "data": {
      "text/html": [
       "<div>\n",
       "<style scoped>\n",
       "    .dataframe tbody tr th:only-of-type {\n",
       "        vertical-align: middle;\n",
       "    }\n",
       "\n",
       "    .dataframe tbody tr th {\n",
       "        vertical-align: top;\n",
       "    }\n",
       "\n",
       "    .dataframe thead th {\n",
       "        text-align: right;\n",
       "    }\n",
       "</style>\n",
       "<table border=\"1\" class=\"dataframe\">\n",
       "  <thead>\n",
       "    <tr style=\"text-align: right;\">\n",
       "      <th></th>\n",
       "      <th>Days_fulladdress</th>\n",
       "      <th>fulladdress_30_count</th>\n",
       "      <th>fulladdress_7_count</th>\n",
       "      <th>ssn_30_count</th>\n",
       "      <th>Days_firstname_ssn</th>\n",
       "      <th>Days_fulladdress_homephone</th>\n",
       "      <th>fulladdresshomephone_30_count</th>\n",
       "      <th>ssnnamedob_30_count</th>\n",
       "      <th>ssn_14_count</th>\n",
       "      <th>fulladdresshomephone_14_count</th>\n",
       "      <th>namedob_14_count</th>\n",
       "      <th>firstnamessn_14_count</th>\n",
       "      <th>ssnnamedob_14_count</th>\n",
       "      <th>lastnamessn_14_count</th>\n",
       "      <th>fulladdresshomephone_7_count</th>\n",
       "      <th>homephone_14_count</th>\n",
       "      <th>homephone_1_count</th>\n",
       "    </tr>\n",
       "    <tr>\n",
       "      <th>record</th>\n",
       "      <th></th>\n",
       "      <th></th>\n",
       "      <th></th>\n",
       "      <th></th>\n",
       "      <th></th>\n",
       "      <th></th>\n",
       "      <th></th>\n",
       "      <th></th>\n",
       "      <th></th>\n",
       "      <th></th>\n",
       "      <th></th>\n",
       "      <th></th>\n",
       "      <th></th>\n",
       "      <th></th>\n",
       "      <th></th>\n",
       "      <th></th>\n",
       "      <th></th>\n",
       "    </tr>\n",
       "  </thead>\n",
       "  <tbody>\n",
       "    <tr>\n",
       "      <th>852785</th>\n",
       "      <td>0.407271</td>\n",
       "      <td>-0.102765</td>\n",
       "      <td>-0.067384</td>\n",
       "      <td>-0.099762</td>\n",
       "      <td>0.394060</td>\n",
       "      <td>0.379935</td>\n",
       "      <td>-0.095718</td>\n",
       "      <td>-0.097878</td>\n",
       "      <td>-0.072852</td>\n",
       "      <td>-0.070587</td>\n",
       "      <td>-0.073782</td>\n",
       "      <td>-0.071503</td>\n",
       "      <td>-0.071056</td>\n",
       "      <td>-0.071466</td>\n",
       "      <td>-0.057622</td>\n",
       "      <td>-1.024153</td>\n",
       "      <td>-0.321508</td>\n",
       "    </tr>\n",
       "    <tr>\n",
       "      <th>852786</th>\n",
       "      <td>0.407271</td>\n",
       "      <td>-0.102765</td>\n",
       "      <td>-0.067384</td>\n",
       "      <td>-0.099762</td>\n",
       "      <td>0.394060</td>\n",
       "      <td>0.379935</td>\n",
       "      <td>-0.095718</td>\n",
       "      <td>-0.097878</td>\n",
       "      <td>-0.072852</td>\n",
       "      <td>-0.070587</td>\n",
       "      <td>-0.073782</td>\n",
       "      <td>-0.071503</td>\n",
       "      <td>-0.071056</td>\n",
       "      <td>-0.071466</td>\n",
       "      <td>-0.057622</td>\n",
       "      <td>0.692744</td>\n",
       "      <td>-0.321508</td>\n",
       "    </tr>\n",
       "    <tr>\n",
       "      <th>852787</th>\n",
       "      <td>-2.890103</td>\n",
       "      <td>-0.102765</td>\n",
       "      <td>-0.067384</td>\n",
       "      <td>5.698312</td>\n",
       "      <td>-3.352424</td>\n",
       "      <td>-3.104734</td>\n",
       "      <td>-0.095718</td>\n",
       "      <td>5.872825</td>\n",
       "      <td>6.159833</td>\n",
       "      <td>-0.070587</td>\n",
       "      <td>6.200734</td>\n",
       "      <td>6.223576</td>\n",
       "      <td>6.227200</td>\n",
       "      <td>6.223864</td>\n",
       "      <td>-0.057622</td>\n",
       "      <td>-0.451854</td>\n",
       "      <td>-0.321508</td>\n",
       "    </tr>\n",
       "    <tr>\n",
       "      <th>852788</th>\n",
       "      <td>-1.476943</td>\n",
       "      <td>-0.102765</td>\n",
       "      <td>-0.067384</td>\n",
       "      <td>-0.099762</td>\n",
       "      <td>-1.546268</td>\n",
       "      <td>-1.611304</td>\n",
       "      <td>-0.095718</td>\n",
       "      <td>-0.097878</td>\n",
       "      <td>-0.072852</td>\n",
       "      <td>-0.070587</td>\n",
       "      <td>-0.073782</td>\n",
       "      <td>-0.071503</td>\n",
       "      <td>-0.071056</td>\n",
       "      <td>-0.071466</td>\n",
       "      <td>-0.057622</td>\n",
       "      <td>-1.024153</td>\n",
       "      <td>-0.321508</td>\n",
       "    </tr>\n",
       "    <tr>\n",
       "      <th>852789</th>\n",
       "      <td>-2.980305</td>\n",
       "      <td>1.467367</td>\n",
       "      <td>-0.067384</td>\n",
       "      <td>1.832930</td>\n",
       "      <td>-3.094402</td>\n",
       "      <td>-3.200060</td>\n",
       "      <td>1.855691</td>\n",
       "      <td>1.892356</td>\n",
       "      <td>-0.072852</td>\n",
       "      <td>-0.070587</td>\n",
       "      <td>-0.073782</td>\n",
       "      <td>-0.071503</td>\n",
       "      <td>-0.071056</td>\n",
       "      <td>-0.071466</td>\n",
       "      <td>-0.057622</td>\n",
       "      <td>0.120445</td>\n",
       "      <td>1.269795</td>\n",
       "    </tr>\n",
       "  </tbody>\n",
       "</table>\n",
       "</div>"
      ],
      "text/plain": [
       "        Days_fulladdress  fulladdress_30_count  fulladdress_7_count  \\\n",
       "record                                                                \n",
       "852785          0.407271             -0.102765            -0.067384   \n",
       "852786          0.407271             -0.102765            -0.067384   \n",
       "852787         -2.890103             -0.102765            -0.067384   \n",
       "852788         -1.476943             -0.102765            -0.067384   \n",
       "852789         -2.980305              1.467367            -0.067384   \n",
       "\n",
       "        ssn_30_count  Days_firstname_ssn  Days_fulladdress_homephone  \\\n",
       "record                                                                 \n",
       "852785     -0.099762            0.394060                    0.379935   \n",
       "852786     -0.099762            0.394060                    0.379935   \n",
       "852787      5.698312           -3.352424                   -3.104734   \n",
       "852788     -0.099762           -1.546268                   -1.611304   \n",
       "852789      1.832930           -3.094402                   -3.200060   \n",
       "\n",
       "        fulladdresshomephone_30_count  ssnnamedob_30_count  ssn_14_count  \\\n",
       "record                                                                     \n",
       "852785                      -0.095718            -0.097878     -0.072852   \n",
       "852786                      -0.095718            -0.097878     -0.072852   \n",
       "852787                      -0.095718             5.872825      6.159833   \n",
       "852788                      -0.095718            -0.097878     -0.072852   \n",
       "852789                       1.855691             1.892356     -0.072852   \n",
       "\n",
       "        fulladdresshomephone_14_count  namedob_14_count  \\\n",
       "record                                                    \n",
       "852785                      -0.070587         -0.073782   \n",
       "852786                      -0.070587         -0.073782   \n",
       "852787                      -0.070587          6.200734   \n",
       "852788                      -0.070587         -0.073782   \n",
       "852789                      -0.070587         -0.073782   \n",
       "\n",
       "        firstnamessn_14_count  ssnnamedob_14_count  lastnamessn_14_count  \\\n",
       "record                                                                     \n",
       "852785              -0.071503            -0.071056             -0.071466   \n",
       "852786              -0.071503            -0.071056             -0.071466   \n",
       "852787               6.223576             6.227200              6.223864   \n",
       "852788              -0.071503            -0.071056             -0.071466   \n",
       "852789              -0.071503            -0.071056             -0.071466   \n",
       "\n",
       "        fulladdresshomephone_7_count  homephone_14_count  homephone_1_count  \n",
       "record                                                                       \n",
       "852785                     -0.057622           -1.024153          -0.321508  \n",
       "852786                     -0.057622            0.692744          -0.321508  \n",
       "852787                     -0.057622           -0.451854          -0.321508  \n",
       "852788                     -0.057622           -1.024153          -0.321508  \n",
       "852789                     -0.057622            0.120445           1.269795  "
      ]
     },
     "execution_count": 15,
     "metadata": {},
     "output_type": "execute_result"
    }
   ],
   "source": [
    "oot_lab = oot_df[\"fraud_label\"]\n",
    "oot_fea = oot_df.iloc[:,1:]\n",
    "\n",
    "oot_fea.head()"
   ]
  },
  {
   "cell_type": "code",
   "execution_count": 16,
   "metadata": {},
   "outputs": [],
   "source": [
    "# import neccessary packages\n",
    "from sklearn.linear_model import LogisticRegression\n",
    "from sklearn.metrics import roc_auc_score\n",
    "from sklearn.metrics import confusion_matrix"
   ]
  },
  {
   "cell_type": "markdown",
   "metadata": {
    "nbpresent": {
     "id": "183c6087-bab7-495b-991e-5f26dbc87272"
    }
   },
   "source": [
    "### Trial on Logistic Regression With All the Features"
   ]
  },
  {
   "cell_type": "code",
   "execution_count": 17,
   "metadata": {
    "nbpresent": {
     "id": "6a5dc069-a3a0-47f0-8c1e-8ab2fcaa2fb8"
    },
    "scrolled": true
   },
   "outputs": [
    {
     "name": "stdout",
     "output_type": "stream",
     "text": [
      "accuracy: 0.9904004918979312\n"
     ]
    }
   ],
   "source": [
    "clf = LogisticRegression()\n",
    "\n",
    "# train the classifier and fit the model\n",
    "clf.fit(train_fea, train_lab)\n",
    "\n",
    "# model evaluation: the mean accuracy on the given test data and labels\n",
    "accuracy = clf.score(train_fea, train_lab)\n",
    "print(\"accuracy:\", accuracy)"
   ]
  },
  {
   "cell_type": "markdown",
   "metadata": {},
   "source": [
    "# Feature Selection based on Accuracy"
   ]
  },
  {
   "cell_type": "code",
   "execution_count": 18,
   "metadata": {},
   "outputs": [
    {
     "name": "stdout",
     "output_type": "stream",
     "text": [
      "1 0.9856254827123372\n",
      "2 0.9883789113758895\n",
      "3 0.9883789113758895\n",
      "4 0.9899685815193348\n",
      "5 0.9899670818305202\n",
      "6 0.9899505852535598\n",
      "7 0.9899580836976327\n",
      "8 0.9904769760274743\n",
      "9 0.9903375049677192\n",
      "10 0.9904889735379908\n",
      "11 0.9904904732268054\n",
      "12 0.990481475093918\n",
      "13 0.9904859741603618\n",
      "14 0.9904889735379908\n",
      "15 0.9904679778945868\n",
      "16 0.9904514813176266\n",
      "\n",
      "16\n",
      "0.9904904732268054\n"
     ]
    }
   ],
   "source": [
    "accuracy = []\n",
    "for i in range(1,train_fea.shape[1]):\n",
    "    features_sub = train_fea.iloc[:,:i]\n",
    "    clf = LogisticRegression()\n",
    "    clf.fit(features_sub, train_lab)\n",
    "    score = clf.score(features_sub, train_lab)\n",
    "    accuracy.append(score)\n",
    "    print(i, score)\n",
    "\n",
    "print(\"\")\n",
    "print(len(accuracy))\n",
    "print(max(accuracy))"
   ]
  },
  {
   "cell_type": "code",
   "execution_count": 19,
   "metadata": {},
   "outputs": [
    {
     "data": {
      "text/plain": [
       "Text(0, 0.5, 'Accuracy')"
      ]
     },
     "execution_count": 19,
     "metadata": {},
     "output_type": "execute_result"
    },
    {
     "data": {
      "image/png": "[encoded data removed]",
      "text/plain": [
       "<Figure size 432x288 with 1 Axes>"
      ]
     },
     "metadata": {
      "needs_background": "light"
     },
     "output_type": "display_data"
    }
   ],
   "source": [
    "plt.plot(accuracy)\n",
    "plt.title('Accuracy on training data')\n",
    "plt.ylabel('Accuracy')"
   ]
  },
  {
   "cell_type": "code",
   "execution_count": 20,
   "metadata": {},
   "outputs": [
    {
     "name": "stdout",
     "output_type": "stream",
     "text": [
      "1 0.9852551259133063\n",
      "2 0.9879545536346295\n",
      "3 0.9879545536346295\n",
      "4 0.989640196278389\n",
      "5 0.9896341975501194\n",
      "6 0.9896102026370409\n",
      "7 0.9896222000935802\n",
      "8 0.990114095811688\n",
      "9 0.9898621492243644\n",
      "10 0.9901080970834183\n",
      "11 0.990114095811688\n",
      "12 0.990114095811688\n",
      "13 0.9900960996268791\n",
      "14 0.9900841021703399\n",
      "15 0.990066105985531\n",
      "16 0.9899941212462958\n",
      "\n",
      "16\n",
      "0.990114095811688\n"
     ]
    }
   ],
   "source": [
    "accuracy = []\n",
    "for i in range(1,train_fea.shape[1]):\n",
    "    features_sub = train_fea.iloc[:,:i]\n",
    "    features_sub_test = test_fea.iloc[:,:i]\n",
    "    clf = LogisticRegression()\n",
    "    clf.fit(features_sub, train_lab)\n",
    "    score = clf.score(features_sub_test, test_lab)\n",
    "    accuracy.append(score)\n",
    "    print(i, score)\n",
    "\n",
    "print(\"\")\n",
    "print(len(accuracy))\n",
    "print(max(accuracy))"
   ]
  },
  {
   "cell_type": "code",
   "execution_count": 21,
   "metadata": {},
   "outputs": [
    {
     "data": {
      "text/plain": [
       "Text(0, 0.5, 'Accuracy')"
      ]
     },
     "execution_count": 21,
     "metadata": {},
     "output_type": "execute_result"
    },
    {
     "data": {
      "image/png": "[encoded data removed]",
      "text/plain": [
       "<Figure size 432x288 with 1 Axes>"
      ]
     },
     "metadata": {
      "needs_background": "light"
     },
     "output_type": "display_data"
    }
   ],
   "source": [
    "plt.plot(accuracy)\n",
    "plt.title('Accuracy on testing data')\n",
    "plt.ylabel('Accuracy')"
   ]
  },
  {
   "cell_type": "code",
   "execution_count": 22,
   "metadata": {},
   "outputs": [
    {
     "name": "stdout",
     "output_type": "stream",
     "text": [
      "1 0.9856061841104228\n",
      "2 0.9880176067818716\n",
      "3 0.9880176067818716\n",
      "4 0.989573144223454\n",
      "5 0.9895663514835344\n",
      "6 0.9895391805238561\n",
      "7 0.9895255950440169\n",
      "8 0.9901709053363765\n",
      "9 0.9899535376589501\n",
      "10 0.9901505271166178\n",
      "11 0.9901573198565373\n",
      "12 0.9901641125964569\n",
      "13 0.9901573198565373\n",
      "14 0.9901641125964569\n",
      "15 0.9901029779371807\n",
      "16 0.9900554287577438\n",
      "\n",
      "16\n",
      "0.9901709053363765\n"
     ]
    }
   ],
   "source": [
    "accuracy = []\n",
    "for i in range(1,train_fea.shape[1]):\n",
    "    features_sub = train_fea.iloc[:,:i]\n",
    "    features_sub_oot = oot_fea.iloc[:,:i]\n",
    "    clf = LogisticRegression()\n",
    "    clf.fit(features_sub, train_lab)\n",
    "    score = clf.score(features_sub_oot, oot_lab)\n",
    "    accuracy.append(score)\n",
    "    print(i, score)\n",
    "\n",
    "print(\"\")\n",
    "print(len(accuracy))\n",
    "print(max(accuracy))"
   ]
  },
  {
   "cell_type": "code",
   "execution_count": 23,
   "metadata": {},
   "outputs": [
    {
     "data": {
      "text/plain": [
       "Text(0, 0.5, 'Accuracy')"
      ]
     },
     "execution_count": 23,
     "metadata": {},
     "output_type": "execute_result"
    },
    {
     "data": {
      "image/png": "[encoded data removed]",
      "text/plain": [
       "<Figure size 432x288 with 1 Axes>"
      ]
     },
     "metadata": {
      "needs_background": "light"
     },
     "output_type": "display_data"
    }
   ],
   "source": [
    "plt.plot(accuracy)\n",
    "plt.title('Accuracy on oot data')\n",
    "plt.ylabel('Accuracy')"
   ]
  },
  {
   "cell_type": "markdown",
   "metadata": {},
   "source": [
    "# Feature Selection based on ROC_AUC"
   ]
  },
  {
   "cell_type": "code",
   "execution_count": 24,
   "metadata": {},
   "outputs": [
    {
     "name": "stdout",
     "output_type": "stream",
     "text": [
      "1 0.5\n",
      "2 0.6105790173519332\n",
      "3 0.6105790173519332\n",
      "4 0.671579599434154\n",
      "5 0.6715274345932568\n",
      "6 0.6714162578891564\n",
      "7 0.6711630414872325\n",
      "8 0.6872587221333177\n",
      "9 0.6814821188383368\n",
      "10 0.6877788489817777\n",
      "11 0.6878310138226749\n",
      "12 0.6873638125953684\n",
      "13 0.6877773274212652\n",
      "14 0.6877788489817777\n",
      "15 0.6867401168453703\n",
      "16 0.6871429807476798\n",
      "\n",
      "16\n",
      "0.6878310138226749\n"
     ]
    }
   ],
   "source": [
    "accuracy = []\n",
    "for i in range(1,train_fea.shape[1]):\n",
    "    features_sub = train_fea.iloc[:,:i]\n",
    "    clf = LogisticRegression()\n",
    "    clf.fit(features_sub, train_lab)\n",
    "    predictions = clf.predict(features_sub)\n",
    "    score = roc_auc_score(train_lab, predictions)\n",
    "    accuracy.append(score)\n",
    "    print(i, score)\n",
    "\n",
    "print(\"\")\n",
    "print(len(accuracy))\n",
    "print(max(accuracy))"
   ]
  },
  {
   "cell_type": "code",
   "execution_count": 25,
   "metadata": {},
   "outputs": [
    {
     "data": {
      "text/plain": [
       "Text(0, 0.5, 'ROC_AUC_Score')"
      ]
     },
     "execution_count": 25,
     "metadata": {},
     "output_type": "execute_result"
    },
    {
     "data": {
      "image/png": "[encoded data removed]",
      "text/plain": [
       "<Figure size 432x288 with 1 Axes>"
      ]
     },
     "metadata": {
      "needs_background": "light"
     },
     "output_type": "display_data"
    }
   ],
   "source": [
    "plt.plot(accuracy)\n",
    "plt.title('ROC_AUC_Score on training data')\n",
    "plt.ylabel('ROC_AUC_Score')"
   ]
  },
  {
   "cell_type": "code",
   "execution_count": 26,
   "metadata": {},
   "outputs": [
    {
     "name": "stdout",
     "output_type": "stream",
     "text": [
      "1 0.5\n",
      "2 0.604161344800287\n",
      "3 0.604161344800287\n",
      "4 0.667132459398903\n",
      "5 0.6669290419863725\n",
      "6 0.6671172381427232\n",
      "7 0.6665222071613115\n",
      "8 0.6826013155049299\n",
      "9 0.6734566646947647\n",
      "10 0.6823978980923993\n",
      "11 0.6824009423436352\n",
      "12 0.6824009423436352\n",
      "13 0.6825921827512219\n",
      "14 0.6823857210874554\n",
      "15 0.6813747225272749\n",
      "16 0.6795348330607923\n",
      "\n",
      "16\n",
      "0.6826013155049299\n"
     ]
    }
   ],
   "source": [
    "accuracy = []\n",
    "for i in range(1,train_fea.shape[1]):\n",
    "    features_sub = train_fea.iloc[:,:i]\n",
    "    features_sub_test = test_fea.iloc[:,:i]\n",
    "    clf = LogisticRegression()\n",
    "    clf.fit(features_sub, train_lab)\n",
    "    predictions = clf.predict(features_sub_test)\n",
    "    score = roc_auc_score(test_lab, predictions)\n",
    "    accuracy.append(score)\n",
    "    print(i, score)\n",
    "\n",
    "print(\"\")\n",
    "print(len(accuracy))\n",
    "print(max(accuracy))"
   ]
  },
  {
   "cell_type": "code",
   "execution_count": 27,
   "metadata": {},
   "outputs": [
    {
     "data": {
      "text/plain": [
       "Text(0, 0.5, 'ROC_AUC_Score')"
      ]
     },
     "execution_count": 27,
     "metadata": {},
     "output_type": "execute_result"
    },
    {
     "data": {
      "image/png": "[encoded data removed]",
      "text/plain": [
       "<Figure size 432x288 with 1 Axes>"
      ]
     },
     "metadata": {
      "needs_background": "light"
     },
     "output_type": "display_data"
    }
   ],
   "source": [
    "plt.plot(accuracy)\n",
    "plt.title('ROC_AUC_Score on testing data')\n",
    "plt.ylabel('ROC_AUC_Score')"
   ]
  },
  {
   "cell_type": "code",
   "execution_count": 28,
   "metadata": {},
   "outputs": [
    {
     "name": "stdout",
     "output_type": "stream",
     "text": [
      "1 0.5\n",
      "2 0.6000419344865334\n",
      "3 0.6000419344865334\n",
      "4 0.6680277199016069\n",
      "5 0.6677917595429472\n",
      "6 0.6677779756604412\n",
      "7 0.6666085117790221\n",
      "8 0.6864670875833325\n",
      "9 0.6782188129421213\n",
      "10 0.68552669211932\n",
      "11 0.68576265247798\n",
      "12 0.6859986128366397\n",
      "13 0.6862276812540463\n",
      "14 0.6862311272246729\n",
      "15 0.6838749696087019\n",
      "16 0.6840833622023493\n",
      "\n",
      "16\n",
      "0.6864670875833325\n"
     ]
    }
   ],
   "source": [
    "accuracy = []\n",
    "for i in range(1,train_fea.shape[1]):\n",
    "    features_sub = train_fea.iloc[:,:i]\n",
    "    features_sub_oot = oot_fea.iloc[:,:i]\n",
    "    clf = LogisticRegression()\n",
    "    clf.fit(features_sub, train_lab)\n",
    "    predictions = clf.predict(features_sub_oot)\n",
    "    score = roc_auc_score(oot_lab, predictions)\n",
    "    accuracy.append(score)\n",
    "    print(i, score)\n",
    "\n",
    "print(\"\")\n",
    "print(len(accuracy))\n",
    "print(max(accuracy))"
   ]
  },
  {
   "cell_type": "code",
   "execution_count": 29,
   "metadata": {},
   "outputs": [
    {
     "data": {
      "text/plain": [
       "Text(0, 0.5, 'ROC_AUC_Score')"
      ]
     },
     "execution_count": 29,
     "metadata": {},
     "output_type": "execute_result"
    },
    {
     "data": {
      "image/png": "[encoded data removed]",
      "text/plain": [
       "<Figure size 432x288 with 1 Axes>"
      ]
     },
     "metadata": {
      "needs_background": "light"
     },
     "output_type": "display_data"
    }
   ],
   "source": [
    "plt.plot(accuracy)\n",
    "plt.title('ROC_AUC_Score on oot data')\n",
    "plt.ylabel('ROC_AUC_Score')"
   ]
  },
  {
   "cell_type": "markdown",
   "metadata": {},
   "source": [
    "# Feature Selection based on FDR"
   ]
  },
  {
   "cell_type": "code",
   "execution_count": 38,
   "metadata": {},
   "outputs": [],
   "source": [
    "def multipltrun(a=10,v=17):\n",
    "    '''\n",
    "    This function run model on different samples based on user input:\n",
    "    \"a\" (int) how many randome samples, default as 5\n",
    "    \"v\" (int) how many variables, default as 6 (most important ones from backward selection)\n",
    "    users can modify model based on different machine learning algorithm and its parameters\n",
    "    \n",
    "    FDR is calculated by first sorting outcome in descending order and cut off at 3%,\n",
    "    sum number of fraud records on top 3% and divided by total fraud racords for that sample\n",
    "    \n",
    "    Final output would be a dataframe contains FDR at 3% for training set, testing set, and oot. \n",
    "    '''\n",
    "    #declare dict\n",
    "    FDRdict={\"train\":[],\"test\":[],\"oot\":[]}\n",
    "    \n",
    "    for i in range(a):        \n",
    "        #split training and testing\n",
    "        train, test = train_test_split(trte_df, test_size=0.2,random_state=i)\n",
    "        \n",
    "        # split lables and features and t\n",
    "        train_lab = train[\"fraud_label\"]\n",
    "        train_fea = train.iloc[:,1:v+1]\n",
    "\n",
    "        test_lab = test[\"fraud_label\"]\n",
    "        test_fea = test.iloc[:,1:v+1]\n",
    "\n",
    "        oot_lab=oot_df[\"fraud_label\"]\n",
    "        oot_fea=oot_df.iloc[:,1:v+1]\n",
    "\n",
    "        #define and fit model\n",
    "\n",
    "        clf = LogisticRegression()\n",
    "        clf.fit(train_fea, train_lab)\n",
    "    \n",
    "        #calculate FDR\n",
    "        for sets in [\"train\",\"test\",\"oot\"]:\n",
    "            fea=vars()[sets+'_fea'] \n",
    "            lab=vars()[sets+'_lab']\n",
    "            prob=pd.DataFrame(clf.predict_proba(fea)) #modify based on your model\n",
    "            result=pd.concat([pd.DataFrame(lab).reset_index(),prob],axis=1)\n",
    "            topRows=int(round(len(result)*0.03))\n",
    "            top3per=result.sort_values(by=1,ascending=False).head(topRows)\n",
    "            FDR=sum(top3per.loc[:,'fraud_label'])/sum(result.loc[:,'fraud_label'])\n",
    "            FDRdict[sets].append(FDR)\n",
    "    \n",
    "    #convert into dataframe\n",
    "    FDR_df=pd.DataFrame(FDRdict)\n",
    "   \n",
    "    #add new row to calculate mean\n",
    "    FDR_df.loc['mean']=FDR_df.mean()\n",
    "    \n",
    "    return FDR_df"
   ]
  },
  {
   "cell_type": "code",
   "execution_count": 39,
   "metadata": {},
   "outputs": [
    {
     "data": {
      "text/html": [
       "<div>\n",
       "<style scoped>\n",
       "    .dataframe tbody tr th:only-of-type {\n",
       "        vertical-align: middle;\n",
       "    }\n",
       "\n",
       "    .dataframe tbody tr th {\n",
       "        vertical-align: top;\n",
       "    }\n",
       "\n",
       "    .dataframe thead th {\n",
       "        text-align: right;\n",
       "    }\n",
       "</style>\n",
       "<table border=\"1\" class=\"dataframe\">\n",
       "  <thead>\n",
       "    <tr style=\"text-align: right;\">\n",
       "      <th></th>\n",
       "      <th>train</th>\n",
       "      <th>test</th>\n",
       "      <th>oot</th>\n",
       "    </tr>\n",
       "  </thead>\n",
       "  <tbody>\n",
       "    <tr>\n",
       "      <th>0</th>\n",
       "      <td>0.527908</td>\n",
       "      <td>0.517494</td>\n",
       "      <td>0.507315</td>\n",
       "    </tr>\n",
       "    <tr>\n",
       "      <th>1</th>\n",
       "      <td>0.516792</td>\n",
       "      <td>0.535080</td>\n",
       "      <td>0.502596</td>\n",
       "    </tr>\n",
       "    <tr>\n",
       "      <th>2</th>\n",
       "      <td>0.519533</td>\n",
       "      <td>0.529785</td>\n",
       "      <td>0.504483</td>\n",
       "    </tr>\n",
       "    <tr>\n",
       "      <th>3</th>\n",
       "      <td>0.522173</td>\n",
       "      <td>0.519470</td>\n",
       "      <td>0.504011</td>\n",
       "    </tr>\n",
       "    <tr>\n",
       "      <th>4</th>\n",
       "      <td>0.523435</td>\n",
       "      <td>0.526736</td>\n",
       "      <td>0.505427</td>\n",
       "    </tr>\n",
       "    <tr>\n",
       "      <th>5</th>\n",
       "      <td>0.520231</td>\n",
       "      <td>0.523176</td>\n",
       "      <td>0.504011</td>\n",
       "    </tr>\n",
       "    <tr>\n",
       "      <th>6</th>\n",
       "      <td>0.517536</td>\n",
       "      <td>0.531635</td>\n",
       "      <td>0.502596</td>\n",
       "    </tr>\n",
       "    <tr>\n",
       "      <th>7</th>\n",
       "      <td>0.526106</td>\n",
       "      <td>0.516567</td>\n",
       "      <td>0.505899</td>\n",
       "    </tr>\n",
       "    <tr>\n",
       "      <th>8</th>\n",
       "      <td>0.524704</td>\n",
       "      <td>0.526359</td>\n",
       "      <td>0.506843</td>\n",
       "    </tr>\n",
       "    <tr>\n",
       "      <th>9</th>\n",
       "      <td>0.522124</td>\n",
       "      <td>0.535685</td>\n",
       "      <td>0.506843</td>\n",
       "    </tr>\n",
       "    <tr>\n",
       "      <th>mean</th>\n",
       "      <td>0.522054</td>\n",
       "      <td>0.526199</td>\n",
       "      <td>0.505002</td>\n",
       "    </tr>\n",
       "  </tbody>\n",
       "</table>\n",
       "</div>"
      ],
      "text/plain": [
       "         train      test       oot\n",
       "0     0.527908  0.517494  0.507315\n",
       "1     0.516792  0.535080  0.502596\n",
       "2     0.519533  0.529785  0.504483\n",
       "3     0.522173  0.519470  0.504011\n",
       "4     0.523435  0.526736  0.505427\n",
       "5     0.520231  0.523176  0.504011\n",
       "6     0.517536  0.531635  0.502596\n",
       "7     0.526106  0.516567  0.505899\n",
       "8     0.524704  0.526359  0.506843\n",
       "9     0.522124  0.535685  0.506843\n",
       "mean  0.522054  0.526199  0.505002"
      ]
     },
     "execution_count": 39,
     "metadata": {},
     "output_type": "execute_result"
    }
   ],
   "source": [
    "multipltrun()"
   ]
  },
  {
   "cell_type": "code",
   "execution_count": 42,
   "metadata": {},
   "outputs": [
    {
     "data": {
      "text/html": [
       "<div>\n",
       "<style scoped>\n",
       "    .dataframe tbody tr th:only-of-type {\n",
       "        vertical-align: middle;\n",
       "    }\n",
       "\n",
       "    .dataframe tbody tr th {\n",
       "        vertical-align: top;\n",
       "    }\n",
       "\n",
       "    .dataframe thead th {\n",
       "        text-align: right;\n",
       "    }\n",
       "</style>\n",
       "<table border=\"1\" class=\"dataframe\">\n",
       "  <thead>\n",
       "    <tr style=\"text-align: right;\">\n",
       "      <th></th>\n",
       "      <th>train</th>\n",
       "      <th>test</th>\n",
       "      <th>oot</th>\n",
       "    </tr>\n",
       "  </thead>\n",
       "  <tbody>\n",
       "    <tr>\n",
       "      <th>0</th>\n",
       "      <td>0.511424</td>\n",
       "      <td>0.496338</td>\n",
       "      <td>0.489854</td>\n",
       "    </tr>\n",
       "    <tr>\n",
       "      <th>1</th>\n",
       "      <td>0.502222</td>\n",
       "      <td>0.519019</td>\n",
       "      <td>0.487022</td>\n",
       "    </tr>\n",
       "    <tr>\n",
       "      <th>2</th>\n",
       "      <td>0.504547</td>\n",
       "      <td>0.511618</td>\n",
       "      <td>0.487966</td>\n",
       "    </tr>\n",
       "    <tr>\n",
       "      <th>3</th>\n",
       "      <td>0.505660</td>\n",
       "      <td>0.502900</td>\n",
       "      <td>0.487022</td>\n",
       "    </tr>\n",
       "    <tr>\n",
       "      <th>4</th>\n",
       "      <td>0.506658</td>\n",
       "      <td>0.509976</td>\n",
       "      <td>0.489382</td>\n",
       "    </tr>\n",
       "    <tr>\n",
       "      <th>5</th>\n",
       "      <td>0.503655</td>\n",
       "      <td>0.505579</td>\n",
       "      <td>0.487494</td>\n",
       "    </tr>\n",
       "    <tr>\n",
       "      <th>6</th>\n",
       "      <td>0.503694</td>\n",
       "      <td>0.514790</td>\n",
       "      <td>0.487494</td>\n",
       "    </tr>\n",
       "    <tr>\n",
       "      <th>7</th>\n",
       "      <td>0.508178</td>\n",
       "      <td>0.500200</td>\n",
       "      <td>0.488438</td>\n",
       "    </tr>\n",
       "    <tr>\n",
       "      <th>8</th>\n",
       "      <td>0.506020</td>\n",
       "      <td>0.508925</td>\n",
       "      <td>0.489854</td>\n",
       "    </tr>\n",
       "    <tr>\n",
       "      <th>9</th>\n",
       "      <td>0.504217</td>\n",
       "      <td>0.520098</td>\n",
       "      <td>0.488910</td>\n",
       "    </tr>\n",
       "    <tr>\n",
       "      <th>mean</th>\n",
       "      <td>0.505628</td>\n",
       "      <td>0.508944</td>\n",
       "      <td>0.488344</td>\n",
       "    </tr>\n",
       "  </tbody>\n",
       "</table>\n",
       "</div>"
      ],
      "text/plain": [
       "         train      test       oot\n",
       "0     0.511424  0.496338  0.489854\n",
       "1     0.502222  0.519019  0.487022\n",
       "2     0.504547  0.511618  0.487966\n",
       "3     0.505660  0.502900  0.487022\n",
       "4     0.506658  0.509976  0.489382\n",
       "5     0.503655  0.505579  0.487494\n",
       "6     0.503694  0.514790  0.487494\n",
       "7     0.508178  0.500200  0.488438\n",
       "8     0.506020  0.508925  0.489854\n",
       "9     0.504217  0.520098  0.488910\n",
       "mean  0.505628  0.508944  0.488344"
      ]
     },
     "execution_count": 42,
     "metadata": {},
     "output_type": "execute_result"
    }
   ],
   "source": [
    "multipltrun(v=16)"
   ]
  },
  {
   "cell_type": "code",
   "execution_count": 43,
   "metadata": {},
   "outputs": [],
   "source": [
    "def multipltrun_2(a=10,v=17):\n",
    "    '''\n",
    "    This function run model on different samples based on user input:\n",
    "    \"a\" (int) how many randome samples, default as 5\n",
    "    \"v\" (int) how many variables, default as 6 (most important ones from backward selection)\n",
    "    users can modify model based on different machine learning algorithm and its parameters\n",
    "    \n",
    "    FDR is calculated by first sorting outcome in descending order and cut off at 3%,\n",
    "    sum number of fraud records on top 3% and divided by total fraud racords for that sample\n",
    "    \n",
    "    Final output would be a dataframe contains FDR at 3% for training set, testing set, and oot. \n",
    "    '''\n",
    "    #declare dict\n",
    "    FDRdf_v=pd.DataFrame({\"train\":[],\"test\":[],\"oot\":[]})\n",
    "    \n",
    "    for j in range(1,v+1):\n",
    "        FDRdict={\"train\":[],\"test\":[],\"oot\":[]}\n",
    "        \n",
    "        for i in range(a):\n",
    "        #split training and testing\n",
    "            train, test = train_test_split(trte_df, test_size=0.2,random_state=i)\n",
    "        \n",
    "            # split lables and features and t\n",
    "            train_lab = train[\"fraud_label\"]\n",
    "            train_fea = train.iloc[:,1:j+1]\n",
    "\n",
    "            test_lab = test[\"fraud_label\"]\n",
    "            test_fea = test.iloc[:,1:j+1]\n",
    "\n",
    "            oot_lab=oot_df[\"fraud_label\"]\n",
    "            oot_fea=oot_df.iloc[:,1:j+1]\n",
    "\n",
    "            #define and fit model\n",
    "\n",
    "            clf = LogisticRegression()\n",
    "            clf.fit(train_fea, train_lab)\n",
    "\n",
    "            #calculate FDR\n",
    "            for sets in [\"train\",\"test\",\"oot\"]:\n",
    "                fea=vars()[sets+'_fea'] \n",
    "                lab=vars()[sets+'_lab']\n",
    "                prob=pd.DataFrame(clf.predict_proba(fea)) \n",
    "                result=pd.concat([pd.DataFrame(lab).reset_index(),prob],axis=1)\n",
    "                topRows=int(round(len(result)*0.03))\n",
    "                top3per=result.sort_values(by=1,ascending=False).head(topRows)\n",
    "                FDR=sum(top3per.loc[:,'fraud_label'])/sum(result.loc[:,'fraud_label'])\n",
    "                FDRdict[sets].append(FDR)\n",
    "    \n",
    "    #convert into dataframe\n",
    "        FDR_df=pd.DataFrame(FDRdict)\n",
    "   \n",
    "    #add new row to calculate mean\n",
    "        # FDRdf_v.append(FDR_df.mean(),ignore_index=True)\n",
    "    \n",
    "        FDRdf_v.loc[j+1]=FDR_df.mean()\n",
    "        \n",
    "    return FDRdf_v"
   ]
  },
  {
   "cell_type": "code",
   "execution_count": 44,
   "metadata": {},
   "outputs": [
    {
     "data": {
      "text/html": [
       "<div>\n",
       "<style scoped>\n",
       "    .dataframe tbody tr th:only-of-type {\n",
       "        vertical-align: middle;\n",
       "    }\n",
       "\n",
       "    .dataframe tbody tr th {\n",
       "        vertical-align: top;\n",
       "    }\n",
       "\n",
       "    .dataframe thead th {\n",
       "        text-align: right;\n",
       "    }\n",
       "</style>\n",
       "<table border=\"1\" class=\"dataframe\">\n",
       "  <thead>\n",
       "    <tr style=\"text-align: right;\">\n",
       "      <th></th>\n",
       "      <th>train</th>\n",
       "      <th>test</th>\n",
       "      <th>oot</th>\n",
       "    </tr>\n",
       "  </thead>\n",
       "  <tbody>\n",
       "    <tr>\n",
       "      <th>2</th>\n",
       "      <td>0.355346</td>\n",
       "      <td>0.352088</td>\n",
       "      <td>0.326569</td>\n",
       "    </tr>\n",
       "    <tr>\n",
       "      <th>3</th>\n",
       "      <td>0.355668</td>\n",
       "      <td>0.352583</td>\n",
       "      <td>0.326569</td>\n",
       "    </tr>\n",
       "    <tr>\n",
       "      <th>4</th>\n",
       "      <td>0.352747</td>\n",
       "      <td>0.350432</td>\n",
       "      <td>0.327041</td>\n",
       "    </tr>\n",
       "    <tr>\n",
       "      <th>5</th>\n",
       "      <td>0.481882</td>\n",
       "      <td>0.484547</td>\n",
       "      <td>0.469089</td>\n",
       "    </tr>\n",
       "    <tr>\n",
       "      <th>6</th>\n",
       "      <td>0.481903</td>\n",
       "      <td>0.484547</td>\n",
       "      <td>0.468900</td>\n",
       "    </tr>\n",
       "    <tr>\n",
       "      <th>7</th>\n",
       "      <td>0.483318</td>\n",
       "      <td>0.484746</td>\n",
       "      <td>0.469042</td>\n",
       "    </tr>\n",
       "    <tr>\n",
       "      <th>8</th>\n",
       "      <td>0.495381</td>\n",
       "      <td>0.495768</td>\n",
       "      <td>0.482114</td>\n",
       "    </tr>\n",
       "    <tr>\n",
       "      <th>9</th>\n",
       "      <td>0.493543</td>\n",
       "      <td>0.495595</td>\n",
       "      <td>0.479000</td>\n",
       "    </tr>\n",
       "    <tr>\n",
       "      <th>10</th>\n",
       "      <td>0.498286</td>\n",
       "      <td>0.499665</td>\n",
       "      <td>0.479802</td>\n",
       "    </tr>\n",
       "    <tr>\n",
       "      <th>11</th>\n",
       "      <td>0.492064</td>\n",
       "      <td>0.493516</td>\n",
       "      <td>0.475696</td>\n",
       "    </tr>\n",
       "    <tr>\n",
       "      <th>12</th>\n",
       "      <td>0.492292</td>\n",
       "      <td>0.493515</td>\n",
       "      <td>0.475790</td>\n",
       "    </tr>\n",
       "    <tr>\n",
       "      <th>13</th>\n",
       "      <td>0.492438</td>\n",
       "      <td>0.493559</td>\n",
       "      <td>0.476074</td>\n",
       "    </tr>\n",
       "    <tr>\n",
       "      <th>14</th>\n",
       "      <td>0.493195</td>\n",
       "      <td>0.494469</td>\n",
       "      <td>0.476451</td>\n",
       "    </tr>\n",
       "    <tr>\n",
       "      <th>15</th>\n",
       "      <td>0.493362</td>\n",
       "      <td>0.494054</td>\n",
       "      <td>0.476593</td>\n",
       "    </tr>\n",
       "    <tr>\n",
       "      <th>16</th>\n",
       "      <td>0.492418</td>\n",
       "      <td>0.493766</td>\n",
       "      <td>0.475555</td>\n",
       "    </tr>\n",
       "    <tr>\n",
       "      <th>17</th>\n",
       "      <td>0.505617</td>\n",
       "      <td>0.508944</td>\n",
       "      <td>0.488344</td>\n",
       "    </tr>\n",
       "    <tr>\n",
       "      <th>18</th>\n",
       "      <td>0.522054</td>\n",
       "      <td>0.526199</td>\n",
       "      <td>0.504955</td>\n",
       "    </tr>\n",
       "  </tbody>\n",
       "</table>\n",
       "</div>"
      ],
      "text/plain": [
       "       train      test       oot\n",
       "2   0.355346  0.352088  0.326569\n",
       "3   0.355668  0.352583  0.326569\n",
       "4   0.352747  0.350432  0.327041\n",
       "5   0.481882  0.484547  0.469089\n",
       "6   0.481903  0.484547  0.468900\n",
       "7   0.483318  0.484746  0.469042\n",
       "8   0.495381  0.495768  0.482114\n",
       "9   0.493543  0.495595  0.479000\n",
       "10  0.498286  0.499665  0.479802\n",
       "11  0.492064  0.493516  0.475696\n",
       "12  0.492292  0.493515  0.475790\n",
       "13  0.492438  0.493559  0.476074\n",
       "14  0.493195  0.494469  0.476451\n",
       "15  0.493362  0.494054  0.476593\n",
       "16  0.492418  0.493766  0.475555\n",
       "17  0.505617  0.508944  0.488344\n",
       "18  0.522054  0.526199  0.504955"
      ]
     },
     "execution_count": 44,
     "metadata": {},
     "output_type": "execute_result"
    }
   ],
   "source": [
    "multipltrun_2()"
   ]
  },
  {
   "cell_type": "code",
   "execution_count": 45,
   "metadata": {
    "scrolled": true
   },
   "outputs": [
    {
     "data": {
      "text/html": [
       "<div>\n",
       "<style scoped>\n",
       "    .dataframe tbody tr th:only-of-type {\n",
       "        vertical-align: middle;\n",
       "    }\n",
       "\n",
       "    .dataframe tbody tr th {\n",
       "        vertical-align: top;\n",
       "    }\n",
       "\n",
       "    .dataframe thead th {\n",
       "        text-align: right;\n",
       "    }\n",
       "</style>\n",
       "<table border=\"1\" class=\"dataframe\">\n",
       "  <thead>\n",
       "    <tr style=\"text-align: right;\">\n",
       "      <th></th>\n",
       "      <th>train</th>\n",
       "      <th>test</th>\n",
       "      <th>oot</th>\n",
       "    </tr>\n",
       "  </thead>\n",
       "  <tbody>\n",
       "    <tr>\n",
       "      <th>2</th>\n",
       "      <td>0.355346</td>\n",
       "      <td>0.352088</td>\n",
       "      <td>0.326569</td>\n",
       "    </tr>\n",
       "    <tr>\n",
       "      <th>3</th>\n",
       "      <td>0.355668</td>\n",
       "      <td>0.352583</td>\n",
       "      <td>0.326569</td>\n",
       "    </tr>\n",
       "    <tr>\n",
       "      <th>4</th>\n",
       "      <td>0.352747</td>\n",
       "      <td>0.350432</td>\n",
       "      <td>0.327041</td>\n",
       "    </tr>\n",
       "    <tr>\n",
       "      <th>5</th>\n",
       "      <td>0.481882</td>\n",
       "      <td>0.484547</td>\n",
       "      <td>0.469089</td>\n",
       "    </tr>\n",
       "    <tr>\n",
       "      <th>6</th>\n",
       "      <td>0.481903</td>\n",
       "      <td>0.484547</td>\n",
       "      <td>0.468900</td>\n",
       "    </tr>\n",
       "    <tr>\n",
       "      <th>7</th>\n",
       "      <td>0.483318</td>\n",
       "      <td>0.484746</td>\n",
       "      <td>0.469042</td>\n",
       "    </tr>\n",
       "    <tr>\n",
       "      <th>8</th>\n",
       "      <td>0.495381</td>\n",
       "      <td>0.495768</td>\n",
       "      <td>0.482114</td>\n",
       "    </tr>\n",
       "    <tr>\n",
       "      <th>9</th>\n",
       "      <td>0.493543</td>\n",
       "      <td>0.495595</td>\n",
       "      <td>0.479000</td>\n",
       "    </tr>\n",
       "    <tr>\n",
       "      <th>10</th>\n",
       "      <td>0.498286</td>\n",
       "      <td>0.499665</td>\n",
       "      <td>0.479802</td>\n",
       "    </tr>\n",
       "    <tr>\n",
       "      <th>11</th>\n",
       "      <td>0.492064</td>\n",
       "      <td>0.493516</td>\n",
       "      <td>0.475696</td>\n",
       "    </tr>\n",
       "    <tr>\n",
       "      <th>12</th>\n",
       "      <td>0.492292</td>\n",
       "      <td>0.493515</td>\n",
       "      <td>0.475790</td>\n",
       "    </tr>\n",
       "    <tr>\n",
       "      <th>13</th>\n",
       "      <td>0.492438</td>\n",
       "      <td>0.493559</td>\n",
       "      <td>0.476074</td>\n",
       "    </tr>\n",
       "    <tr>\n",
       "      <th>14</th>\n",
       "      <td>0.493195</td>\n",
       "      <td>0.494469</td>\n",
       "      <td>0.476310</td>\n",
       "    </tr>\n",
       "    <tr>\n",
       "      <th>15</th>\n",
       "      <td>0.493351</td>\n",
       "      <td>0.494054</td>\n",
       "      <td>0.476593</td>\n",
       "    </tr>\n",
       "    <tr>\n",
       "      <th>16</th>\n",
       "      <td>0.492428</td>\n",
       "      <td>0.493766</td>\n",
       "      <td>0.475555</td>\n",
       "    </tr>\n",
       "    <tr>\n",
       "      <th>17</th>\n",
       "      <td>0.505648</td>\n",
       "      <td>0.508986</td>\n",
       "      <td>0.488344</td>\n",
       "    </tr>\n",
       "  </tbody>\n",
       "</table>\n",
       "</div>"
      ],
      "text/plain": [
       "       train      test       oot\n",
       "2   0.355346  0.352088  0.326569\n",
       "3   0.355668  0.352583  0.326569\n",
       "4   0.352747  0.350432  0.327041\n",
       "5   0.481882  0.484547  0.469089\n",
       "6   0.481903  0.484547  0.468900\n",
       "7   0.483318  0.484746  0.469042\n",
       "8   0.495381  0.495768  0.482114\n",
       "9   0.493543  0.495595  0.479000\n",
       "10  0.498286  0.499665  0.479802\n",
       "11  0.492064  0.493516  0.475696\n",
       "12  0.492292  0.493515  0.475790\n",
       "13  0.492438  0.493559  0.476074\n",
       "14  0.493195  0.494469  0.476310\n",
       "15  0.493351  0.494054  0.476593\n",
       "16  0.492428  0.493766  0.475555\n",
       "17  0.505648  0.508986  0.488344"
      ]
     },
     "execution_count": 45,
     "metadata": {},
     "output_type": "execute_result"
    }
   ],
   "source": [
    "multipltrun_2(v = 16)"
   ]
  },
  {
   "cell_type": "code",
   "execution_count": 51,
   "metadata": {},
   "outputs": [],
   "source": [
    "multipltrun_df = multipltrun_2()"
   ]
  },
  {
   "cell_type": "markdown",
   "metadata": {},
   "source": [
    "## According to the chart above, the optimal FDR for oot data is 0.375419, corresponding to 13 variables."
   ]
  },
  {
   "cell_type": "code",
   "execution_count": 54,
   "metadata": {},
   "outputs": [
    {
     "data": {
      "text/html": [
       "<div>\n",
       "<style scoped>\n",
       "    .dataframe tbody tr th:only-of-type {\n",
       "        vertical-align: middle;\n",
       "    }\n",
       "\n",
       "    .dataframe tbody tr th {\n",
       "        vertical-align: top;\n",
       "    }\n",
       "\n",
       "    .dataframe thead th {\n",
       "        text-align: right;\n",
       "    }\n",
       "</style>\n",
       "<table border=\"1\" class=\"dataframe\">\n",
       "  <thead>\n",
       "    <tr style=\"text-align: right;\">\n",
       "      <th></th>\n",
       "      <th>train</th>\n",
       "      <th>test</th>\n",
       "      <th>oot</th>\n",
       "    </tr>\n",
       "  </thead>\n",
       "  <tbody>\n",
       "    <tr>\n",
       "      <th>2</th>\n",
       "      <td>0.355346</td>\n",
       "      <td>0.352088</td>\n",
       "      <td>0.326569</td>\n",
       "    </tr>\n",
       "    <tr>\n",
       "      <th>3</th>\n",
       "      <td>0.355668</td>\n",
       "      <td>0.352583</td>\n",
       "      <td>0.326569</td>\n",
       "    </tr>\n",
       "    <tr>\n",
       "      <th>4</th>\n",
       "      <td>0.352747</td>\n",
       "      <td>0.350432</td>\n",
       "      <td>0.327041</td>\n",
       "    </tr>\n",
       "    <tr>\n",
       "      <th>5</th>\n",
       "      <td>0.481882</td>\n",
       "      <td>0.484547</td>\n",
       "      <td>0.469089</td>\n",
       "    </tr>\n",
       "    <tr>\n",
       "      <th>6</th>\n",
       "      <td>0.481903</td>\n",
       "      <td>0.484547</td>\n",
       "      <td>0.468900</td>\n",
       "    </tr>\n",
       "  </tbody>\n",
       "</table>\n",
       "</div>"
      ],
      "text/plain": [
       "      train      test       oot\n",
       "2  0.355346  0.352088  0.326569\n",
       "3  0.355668  0.352583  0.326569\n",
       "4  0.352747  0.350432  0.327041\n",
       "5  0.481882  0.484547  0.469089\n",
       "6  0.481903  0.484547  0.468900"
      ]
     },
     "execution_count": 54,
     "metadata": {},
     "output_type": "execute_result"
    }
   ],
   "source": [
    "multipltrun_df.head()"
   ]
  },
  {
   "cell_type": "code",
   "execution_count": 58,
   "metadata": {},
   "outputs": [],
   "source": [
    "multipltrun_df = multipltrun_df.reset_index()"
   ]
  },
  {
   "cell_type": "code",
   "execution_count": 59,
   "metadata": {},
   "outputs": [
    {
     "data": {
      "text/plain": [
       "Text(0, 0.5, 'FDR')"
      ]
     },
     "execution_count": 59,
     "metadata": {},
     "output_type": "execute_result"
    },
    {
     "data": {
      "image/png": "[encoded data removed]",
      "text/plain": [
       "<Figure size 432x288 with 1 Axes>"
      ]
     },
     "metadata": {
      "needs_background": "light"
     },
     "output_type": "display_data"
    }
   ],
   "source": [
    "plt.plot(multipltrun_df['oot'])\n",
    "plt.title('FDR on oot data')\n",
    "plt.ylabel('FDR')"
   ]
  },
  {
   "cell_type": "markdown",
   "metadata": {},
   "source": [
    "Conclusion: optimal # of variables is 17, the corresponding FDR is 0.504955."
   ]
  },
  {
   "cell_type": "code",
   "execution_count": null,
   "metadata": {},
   "outputs": [],
   "source": []
  }
 ],
 "metadata": {
  "anaconda-cloud": {},
  "kernelspec": {
   "display_name": "Python [conda env:py3k]",
   "language": "python",
   "name": "conda-env-py3k-py"
  },
  "language_info": {
   "codemirror_mode": {
    "name": "ipython",
    "version": 3
   },
   "file_extension": ".py",
   "mimetype": "text/x-python",
   "name": "python",
   "nbconvert_exporter": "python",
   "pygments_lexer": "ipython3",
   "version": "3.7.3"
  },
  "nbpresent": {
   "slides": {
    "000eb71e-c5c7-480f-870e-9ca839bf59fc": {
     "id": "000eb71e-c5c7-480f-870e-9ca839bf59fc",
     "prev": "bebb6b7c-bec5-41f7-9389-848bbe795e66",
     "regions": {
      "d8be80fe-a50e-48e1-81fa-ae04b28c096b": {
       "attrs": {
        "height": 0.8,
        "width": 0.8,
        "x": 0.1,
        "y": 0.1
       },
       "content": {
        "cell": "183c6087-bab7-495b-991e-5f26dbc87272",
        "part": "whole"
       },
       "id": "d8be80fe-a50e-48e1-81fa-ae04b28c096b"
      }
     }
    },
    "1f3d535d-4085-456d-b1a2-e591c79d643b": {
     "id": "1f3d535d-4085-456d-b1a2-e591c79d643b",
     "prev": "879f01df-6761-4d11-a1f9-7f3c0d609b88",
     "regions": {
      "1eef7b0e-cfe8-463d-a84d-ec8a401af0b9": {
       "attrs": {
        "height": 0.8,
        "width": 0.8,
        "x": 0.1,
        "y": 0.1
       },
       "content": {
        "cell": "9db4791a-d98d-4334-927e-4d78f25dfc2b",
        "part": "whole"
       },
       "id": "1eef7b0e-cfe8-463d-a84d-ec8a401af0b9"
      }
     }
    },
    "3d17961e-80b7-4078-8650-ce35468d74eb": {
     "id": "3d17961e-80b7-4078-8650-ce35468d74eb",
     "prev": "d142675d-f132-41c6-81b6-bc4bdee76ef5",
     "regions": {
      "d35b525a-4753-4225-9b4f-bd0b6de4a45d": {
       "attrs": {
        "height": 0.8,
        "width": 0.8,
        "x": 0.1,
        "y": 0.1
       },
       "content": {
        "cell": "62a16342-f00b-49c1-a570-1d08e5f107a3",
        "part": "whole"
       },
       "id": "d35b525a-4753-4225-9b4f-bd0b6de4a45d"
      }
     }
    },
    "45cb7223-71d6-413c-aa06-2d1550af2ff8": {
     "id": "45cb7223-71d6-413c-aa06-2d1550af2ff8",
     "prev": "bc380d13-2995-415b-a50f-6007f88b187c",
     "regions": {
      "e9880413-4691-401a-8602-ef94bf1b5034": {
       "attrs": {
        "height": 0.8,
        "width": 0.8,
        "x": 0.1,
        "y": 0.1
       },
       "content": {
        "cell": "44d4eb36-ee0e-4070-b455-472afb0f3f4a",
        "part": "whole"
       },
       "id": "e9880413-4691-401a-8602-ef94bf1b5034"
      }
     }
    },
    "60e86473-8e3e-4d56-9d18-e4bfbe9e3b83": {
     "id": "60e86473-8e3e-4d56-9d18-e4bfbe9e3b83",
     "prev": "85091533-59af-463f-be20-667c38d650b9",
     "regions": {
      "efe8eb4a-8589-4c4e-8286-705e9485ab70": {
       "attrs": {
        "height": 0.8,
        "width": 0.8,
        "x": 0.1,
        "y": 0.1
       },
       "content": {
        "cell": "affacd4e-c4f5-4205-8c3b-ddf001223236",
        "part": "whole"
       },
       "id": "efe8eb4a-8589-4c4e-8286-705e9485ab70"
      }
     }
    },
    "6229913b-718b-4e67-a831-330fb6a2a6d3": {
     "id": "6229913b-718b-4e67-a831-330fb6a2a6d3",
     "prev": "71288704-7e7b-485f-aafb-a0a0adc12334",
     "regions": {
      "e3f3c209-4098-4c6f-b201-9ab875ffec86": {
       "attrs": {
        "height": 0.8,
        "width": 0.8,
        "x": 0.1,
        "y": 0.1
       },
       "content": {
        "cell": "80e83d2f-e09e-4631-b9de-5a6a9df3eb83",
        "part": "whole"
       },
       "id": "e3f3c209-4098-4c6f-b201-9ab875ffec86"
      }
     }
    },
    "63ca5375-2a1d-44fd-a2ac-e77e2762c1be": {
     "id": "63ca5375-2a1d-44fd-a2ac-e77e2762c1be",
     "prev": "9c5194f8-5732-4017-99ec-8be6638853cf",
     "regions": {
      "19a77190-bd02-4dad-9151-908491f1ef55": {
       "attrs": {
        "height": 0.8,
        "width": 0.8,
        "x": 0.1,
        "y": 0.1
       },
       "content": {
        "cell": "64130f62-181f-49ba-b8c5-f3509b04c5b1",
        "part": "whole"
       },
       "id": "19a77190-bd02-4dad-9151-908491f1ef55"
      }
     }
    },
    "71288704-7e7b-485f-aafb-a0a0adc12334": {
     "id": "71288704-7e7b-485f-aafb-a0a0adc12334",
     "prev": "b88e913f-e7f8-4908-938c-d9655f1e22d9",
     "regions": {
      "fee52edc-0227-47f7-a315-3cbfaec79de8": {
       "attrs": {
        "height": 0.8,
        "width": 0.8,
        "x": 0.1,
        "y": 0.1
       },
       "content": {
        "cell": "564e5f61-4b3d-4a4c-9661-3fc0f5f5161b",
        "part": "whole"
       },
       "id": "fee52edc-0227-47f7-a315-3cbfaec79de8"
      }
     }
    },
    "834da33c-237b-4408-826d-bbb049f10208": {
     "id": "834da33c-237b-4408-826d-bbb049f10208",
     "prev": "000eb71e-c5c7-480f-870e-9ca839bf59fc",
     "regions": {
      "cd9ab26f-5a8d-478a-882d-8e0fd165e7a6": {
       "attrs": {
        "height": 0.8,
        "width": 0.8,
        "x": 0.1,
        "y": 0.1
       },
       "content": {
        "cell": "6a5dc069-a3a0-47f0-8c1e-8ab2fcaa2fb8",
        "part": "whole"
       },
       "id": "cd9ab26f-5a8d-478a-882d-8e0fd165e7a6"
      }
     }
    },
    "845d6736-9fa8-457b-bdf5-dd4d1e651e28": {
     "id": "845d6736-9fa8-457b-bdf5-dd4d1e651e28",
     "prev": "a9d8d44d-fa22-49f3-acde-201fa6676260",
     "regions": {
      "afef51ab-2b52-4278-bf21-fceea8840075": {
       "attrs": {
        "height": 0.8,
        "width": 0.8,
        "x": 0.1,
        "y": 0.1
       },
       "content": {
        "cell": "0d8f109e-3f55-4671-bb7d-d3164e60432d",
        "part": "whole"
       },
       "id": "afef51ab-2b52-4278-bf21-fceea8840075"
      }
     }
    },
    "85091533-59af-463f-be20-667c38d650b9": {
     "id": "85091533-59af-463f-be20-667c38d650b9",
     "prev": "45cb7223-71d6-413c-aa06-2d1550af2ff8",
     "regions": {
      "94c9cc60-0aa4-4d82-bc90-f7d4091f38ae": {
       "attrs": {
        "height": 0.8,
        "width": 0.8,
        "x": 0.1,
        "y": 0.1
       },
       "content": {
        "cell": "3be92b91-7733-4e0b-b0e7-5f48915edeb6",
        "part": "whole"
       },
       "id": "94c9cc60-0aa4-4d82-bc90-f7d4091f38ae"
      }
     }
    },
    "879f01df-6761-4d11-a1f9-7f3c0d609b88": {
     "id": "879f01df-6761-4d11-a1f9-7f3c0d609b88",
     "prev": "834da33c-237b-4408-826d-bbb049f10208",
     "regions": {
      "f36699f3-ab60-43ec-b189-361b928be091": {
       "attrs": {
        "height": 0.8,
        "width": 0.8,
        "x": 0.1,
        "y": 0.1
       },
       "content": {
        "cell": "5047f4e0-7965-4330-8f9c-37eedca51a9b",
        "part": "whole"
       },
       "id": "f36699f3-ab60-43ec-b189-361b928be091"
      }
     }
    },
    "8b7e2b25-60cb-48ce-9694-3cfb15d42c6e": {
     "id": "8b7e2b25-60cb-48ce-9694-3cfb15d42c6e",
     "prev": "3d17961e-80b7-4078-8650-ce35468d74eb",
     "regions": {
      "78c9ff4a-7e13-4652-a434-c0f7e22b1638": {
       "attrs": {
        "height": 0.8,
        "width": 0.8,
        "x": 0.1,
        "y": 0.1
       },
       "content": {
        "cell": "f7cae24a-be12-466c-992e-7937ef0c1504",
        "part": "whole"
       },
       "id": "78c9ff4a-7e13-4652-a434-c0f7e22b1638"
      }
     }
    },
    "946770f4-14cb-4f82-9d3e-8cdf68a99528": {
     "id": "946770f4-14cb-4f82-9d3e-8cdf68a99528",
     "prev": "b8d16fce-c0f0-4961-9832-b131c07b7416",
     "regions": {
      "1bedf970-b954-4dfa-985e-f1ea533833e8": {
       "attrs": {
        "height": 0.8,
        "width": 0.8,
        "x": 0.1,
        "y": 0.1
       },
       "content": {
        "cell": "45f6c8eb-e012-4b98-8aea-a4ec91a1d90a",
        "part": "whole"
       },
       "id": "1bedf970-b954-4dfa-985e-f1ea533833e8"
      }
     }
    },
    "9c5194f8-5732-4017-99ec-8be6638853cf": {
     "id": "9c5194f8-5732-4017-99ec-8be6638853cf",
     "prev": "c77f22fb-d214-47d3-a0f0-4c1a747a7bb2",
     "regions": {
      "84e01f1d-d0e2-4019-b5c6-344af1237216": {
       "attrs": {
        "height": 0.8,
        "width": 0.8,
        "x": 0.1,
        "y": 0.1
       },
       "content": {
        "cell": "dfa808c2-291b-4339-a67e-5c91685ac828",
        "part": "whole"
       },
       "id": "84e01f1d-d0e2-4019-b5c6-344af1237216"
      }
     }
    },
    "a717a20c-7d2f-4aa4-8802-91112bd49f5a": {
     "id": "a717a20c-7d2f-4aa4-8802-91112bd49f5a",
     "prev": "845d6736-9fa8-457b-bdf5-dd4d1e651e28",
     "regions": {
      "c20efcbb-1855-40cb-94ea-1630ed29363a": {
       "attrs": {
        "height": 0.8,
        "width": 0.8,
        "x": 0.1,
        "y": 0.1
       },
       "content": {
        "cell": "082165ed-e1a2-484a-9477-f19bc7fcc478",
        "part": "whole"
       },
       "id": "c20efcbb-1855-40cb-94ea-1630ed29363a"
      }
     }
    },
    "a798a46b-083e-480d-873f-82bcd1d90fad": {
     "id": "a798a46b-083e-480d-873f-82bcd1d90fad",
     "prev": "8b7e2b25-60cb-48ce-9694-3cfb15d42c6e",
     "regions": {
      "83a4c0b3-b4f1-4aea-b88e-1e5b0563cc54": {
       "attrs": {
        "height": 0.8,
        "width": 0.8,
        "x": 0.1,
        "y": 0.1
       },
       "content": {
        "cell": "ca872076-f66d-465d-9570-1df8458ac4f0",
        "part": "whole"
       },
       "id": "83a4c0b3-b4f1-4aea-b88e-1e5b0563cc54"
      }
     }
    },
    "a9d8d44d-fa22-49f3-acde-201fa6676260": {
     "id": "a9d8d44d-fa22-49f3-acde-201fa6676260",
     "prev": "60e86473-8e3e-4d56-9d18-e4bfbe9e3b83",
     "regions": {
      "8d6b3e3c-f25b-4d09-9a2a-ee80ae8e3624": {
       "attrs": {
        "height": 0.8,
        "width": 0.8,
        "x": 0.1,
        "y": 0.1
       },
       "content": {
        "cell": "d26d6714-cef7-4d41-a351-91c541107406",
        "part": "whole"
       },
       "id": "8d6b3e3c-f25b-4d09-9a2a-ee80ae8e3624"
      }
     }
    },
    "b88e913f-e7f8-4908-938c-d9655f1e22d9": {
     "id": "b88e913f-e7f8-4908-938c-d9655f1e22d9",
     "prev": "1f3d535d-4085-456d-b1a2-e591c79d643b",
     "regions": {
      "4faf83e8-e428-443a-9eef-a70c8c10a040": {
       "attrs": {
        "height": 0.8,
        "width": 0.8,
        "x": 0.1,
        "y": 0.1
       },
       "content": {
        "cell": "e06185da-78a9-4ad0-a324-34b36fbf20a0",
        "part": "whole"
       },
       "id": "4faf83e8-e428-443a-9eef-a70c8c10a040"
      }
     }
    },
    "b8d16fce-c0f0-4961-9832-b131c07b7416": {
     "id": "b8d16fce-c0f0-4961-9832-b131c07b7416",
     "prev": "d54c2e22-56ae-4c28-8bc2-bc5722fdbcc7",
     "regions": {
      "0c3dcf7a-ca96-43f6-8a75-deb2c8e845b1": {
       "attrs": {
        "height": 0.8,
        "width": 0.8,
        "x": 0.1,
        "y": 0.1
       },
       "content": {
        "cell": "4d14dd87-b8e7-494a-9cff-3caf17ae8fdc",
        "part": "whole"
       },
       "id": "0c3dcf7a-ca96-43f6-8a75-deb2c8e845b1"
      }
     }
    },
    "bc380d13-2995-415b-a50f-6007f88b187c": {
     "id": "bc380d13-2995-415b-a50f-6007f88b187c",
     "prev": null,
     "regions": {}
    },
    "bebb6b7c-bec5-41f7-9389-848bbe795e66": {
     "id": "bebb6b7c-bec5-41f7-9389-848bbe795e66",
     "prev": "ca255684-a6b6-4aa7-82c8-6a2e85dc359b",
     "regions": {
      "f44333f1-1226-4dc3-bd8a-a27355b346fe": {
       "attrs": {
        "height": 0.8,
        "width": 0.8,
        "x": 0.1,
        "y": 0.1
       },
       "content": {
        "cell": "0e30e186-7936-444b-8820-c447b17784e1",
        "part": "whole"
       },
       "id": "f44333f1-1226-4dc3-bd8a-a27355b346fe"
      }
     }
    },
    "c77f22fb-d214-47d3-a0f0-4c1a747a7bb2": {
     "id": "c77f22fb-d214-47d3-a0f0-4c1a747a7bb2",
     "prev": "a798a46b-083e-480d-873f-82bcd1d90fad",
     "regions": {
      "e2a998b2-ac39-42fb-ac26-6a512c734803": {
       "attrs": {
        "height": 0.8,
        "width": 0.8,
        "x": 0.1,
        "y": 0.1
       },
       "content": {
        "cell": "c2b2ba5a-98dc-4fac-9888-2e6b2c19adcc",
        "part": "whole"
       },
       "id": "e2a998b2-ac39-42fb-ac26-6a512c734803"
      }
     }
    },
    "ca255684-a6b6-4aa7-82c8-6a2e85dc359b": {
     "id": "ca255684-a6b6-4aa7-82c8-6a2e85dc359b",
     "prev": "dc2b97d1-4a86-4019-9bef-c21921801f19",
     "regions": {
      "6de1b118-4d7f-4c2d-a9b3-139d700154fd": {
       "attrs": {
        "height": 0.8,
        "width": 0.8,
        "x": 0.1,
        "y": 0.1
       },
       "content": {
        "cell": "8ff86ed0-ffa6-4cf9-8314-f3b419fa06ce",
        "part": "whole"
       },
       "id": "6de1b118-4d7f-4c2d-a9b3-139d700154fd"
      }
     }
    },
    "d142675d-f132-41c6-81b6-bc4bdee76ef5": {
     "id": "d142675d-f132-41c6-81b6-bc4bdee76ef5",
     "prev": "f5e6273f-3e0f-465d-b001-ea084134bac6",
     "regions": {
      "d5306476-a9fd-4f97-a463-787bc42763e1": {
       "attrs": {
        "height": 0.8,
        "width": 0.8,
        "x": 0.1,
        "y": 0.1
       },
       "content": {
        "cell": "9ecaf1c3-2298-4493-b4d2-9dfe0b81122b",
        "part": "whole"
       },
       "id": "d5306476-a9fd-4f97-a463-787bc42763e1"
      }
     }
    },
    "d54c2e22-56ae-4c28-8bc2-bc5722fdbcc7": {
     "id": "d54c2e22-56ae-4c28-8bc2-bc5722fdbcc7",
     "prev": "63ca5375-2a1d-44fd-a2ac-e77e2762c1be",
     "regions": {
      "0de91b44-e9e2-4137-9d0f-46193a77e4e6": {
       "attrs": {
        "height": 0.8,
        "width": 0.8,
        "x": 0.1,
        "y": 0.1
       },
       "content": {
        "cell": "3604bfbe-a46b-46cb-95a2-04223aa94d65",
        "part": "whole"
       },
       "id": "0de91b44-e9e2-4137-9d0f-46193a77e4e6"
      }
     }
    },
    "dc2b97d1-4a86-4019-9bef-c21921801f19": {
     "id": "dc2b97d1-4a86-4019-9bef-c21921801f19",
     "prev": "a717a20c-7d2f-4aa4-8802-91112bd49f5a",
     "regions": {
      "31b5d06a-e42a-4845-994b-dc40c8d113fa": {
       "attrs": {
        "height": 0.8,
        "width": 0.8,
        "x": 0.1,
        "y": 0.1
       },
       "content": {
        "cell": "6dd1e682-6841-4836-a4cd-9786c98d6d8d",
        "part": "whole"
       },
       "id": "31b5d06a-e42a-4845-994b-dc40c8d113fa"
      }
     }
    },
    "f5e6273f-3e0f-465d-b001-ea084134bac6": {
     "id": "f5e6273f-3e0f-465d-b001-ea084134bac6",
     "prev": "6229913b-718b-4e67-a831-330fb6a2a6d3",
     "regions": {
      "55794442-1786-4fd2-bb42-67bcce11897d": {
       "attrs": {
        "height": 0.8,
        "width": 0.8,
        "x": 0.1,
        "y": 0.1
       },
       "content": {
        "cell": "be1b823e-31e5-42e1-8c9e-c11b863afe6d",
        "part": "whole"
       },
       "id": "55794442-1786-4fd2-bb42-67bcce11897d"
      }
     }
    }
   },
   "themes": {}
  }
 },
 "nbformat": 4,
 "nbformat_minor": 1
}
